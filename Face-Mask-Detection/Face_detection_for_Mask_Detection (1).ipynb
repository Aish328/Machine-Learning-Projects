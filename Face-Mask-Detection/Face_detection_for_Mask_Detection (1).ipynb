{
  "nbformat": 4,
  "nbformat_minor": 0,
  "metadata": {
    "colab": {
      "provenance": [],
      "gpuType": "T4"
    },
    "kernelspec": {
      "name": "python3",
      "display_name": "Python 3"
    },
    "language_info": {
      "name": "python"
    },
    "accelerator": "GPU"
  },
  "cells": [
    {
      "cell_type": "code",
      "execution_count": 2,
      "metadata": {
        "colab": {
          "base_uri": "https://localhost:8080/"
        },
        "id": "ngA3IV26hO2L",
        "outputId": "0dfbb324-c520-4016-9c9b-02c6f1cc92b7"
      },
      "outputs": [
        {
          "output_type": "stream",
          "name": "stdout",
          "text": [
            "Cloning into 'Face-Mask-Detection'...\n",
            "remote: Enumerating objects: 3770, done.\u001b[K\n",
            "remote: Counting objects: 100% (6/6), done.\u001b[K\n",
            "remote: Compressing objects: 100% (6/6), done.\u001b[K\n",
            "remote: Total 3770 (delta 2), reused 0 (delta 0), pack-reused 3764\u001b[K\n",
            "Receiving objects: 100% (3770/3770), 143.05 MiB | 37.06 MiB/s, done.\n",
            "Resolving deltas: 100% (4/4), done.\n",
            "Updating files: 100% (3840/3840), done.\n"
          ]
        }
      ],
      "source": [
        "!git clone https://github.com/balajisrinivas/Face-Mask-Detection.git"
      ]
    },
    {
      "cell_type": "markdown",
      "source": [
        "**IMPORTING SUFFICIENT LIBRARIES AND MODULES**"
      ],
      "metadata": {
        "id": "VgmTGmzike4v"
      }
    },
    {
      "cell_type": "code",
      "source": [
        "from tensorflow.keras.applications.mobilenet_v2 import preprocess_input\n",
        "from tensorflow.keras.preprocessing.image import img_to_array\n",
        "from tensorflow.keras.models import load_model\n",
        "from google.colab.patches import cv2_imshow\n",
        "from imutils.video import VideoStream\n",
        "import numpy as np\n",
        "import pandas as pt\n",
        "import matplotlib.pyplot as plt\n",
        "import imutils\n",
        "import time\n",
        "import cv2\n",
        "import os\n"
      ],
      "metadata": {
        "id": "a2_3ETBMjtfz"
      },
      "execution_count": 23,
      "outputs": []
    },
    {
      "cell_type": "code",
      "source": [
        "prototxtpath = r\"/content/Face-Mask-Detection/face_detector/deploy.prototxt\"\n",
        "weightspath = r\"/content/Face-Mask-Detection/face_detector/res10_300x300_ssd_iter_140000.caffemodel\"\n",
        "faceNet = cv2.dnn.readNet(prototxtpath, weightspath)"
      ],
      "metadata": {
        "id": "9a_CP_RhpRPm"
      },
      "execution_count": 24,
      "outputs": []
    },
    {
      "cell_type": "code",
      "source": [
        "MaskNet = load_model(\"/content/mask_detector.keras\")"
      ],
      "metadata": {
        "id": "yRRQn0UnA7rW"
      },
      "execution_count": 25,
      "outputs": []
    },
    {
      "cell_type": "markdown",
      "source": [
        "**STARTING VIDEO STREAM**"
      ],
      "metadata": {
        "id": "KwFd75J3qiEy"
      }
    },
    {
      "cell_type": "code",
      "source": [
        "vs= VideoStream(src=0).start()  # src is nource that is number of cameras or to which camera r we assigning task. here we have only one camera so we initialise src to 0\n",
        "#start() function starts the Videostream module\n",
        "\n"
      ],
      "metadata": {
        "id": "V3EK_EWKozS5"
      },
      "execution_count": 27,
      "outputs": []
    },
    {
      "cell_type": "code",
      "source": [
        "def detect_and_predict_mask(frame,faceNet,maskNet):\n",
        "\n",
        "  (h,w) = frame.shape[:2]# extracting the eight and weight of the frame\n",
        "\n",
        "  blob = cv2.dnn.blobFromImage(frame,1.0,(224,224),(104.0,177.0,123.0))\n",
        "  faceNet.setInput(blob)\n",
        "  detections = faceNet.forward()\n",
        "  print(detections.shape)\n",
        "\n",
        "  faces = []  #initialising empty face, locs and preds lists\n",
        "  locs = []\n",
        "  preds = []\n",
        "\n",
        "  for i in range(0, detections.shape[2]):\n",
        "    confidence = detections[0,0,i,2]\n",
        "\n",
        "    if confidence > 0.5:\n",
        "      box = detections[0,0,i,3:7]*np.array([w,h,w,h])\n",
        "      (startX, startY, endX, endY) = box.astype(\"int\")\n",
        "      (startX,startY) = (max(0,startX),max(0,startY))\n",
        "      (endX,endY)= (min(w-1 , endX),min(h-1,endY))\n",
        "\n",
        "      face = frame[startY:endY , startX:endX]\n",
        "      face = cv2.cvtColor(face,cv2.COLOR_BGR2RGB)\n",
        "      face = cv2.resize(face,(224,224))\n",
        "      face = img_to_array(face)\n",
        "      face = preprocess_input(face)\n",
        "\n",
        "      faces.append(face)\n",
        "      locs.append((startX, startY, endX, endY))\n",
        "\n",
        "  if len(faces)> 0:\n",
        "    faces = np.array(faces, dtype = \"float32\")\n",
        "    preds = maskNet.predict(faces,batch_size = 32)\n",
        "\n",
        "  return (locs,preds)\n"
      ],
      "metadata": {
        "id": "vFlXX94QkW1C"
      },
      "execution_count": 28,
      "outputs": []
    },
    {
      "cell_type": "code",
      "source": [
        "#while frame : #reading images(video) in the frame\n",
        "  #img = cv2.imread('/content/mask-4898571_640.jpg')\n",
        "\n",
        "frame = cv2.imread('/content/download.jpeg')\n",
        "frame = imutils.resize(frame , width = 400)\n",
        "\n",
        "# now we have three variables i.e FaceNet, MaskNet , frame\n",
        "#FaceNet is for face prediction, Masknet is for Mask predction on face, frame for video loading from the camera\n",
        "(locs,preds) = detect_and_predict_mask(frame,faceNet,MaskNet)\n",
        "#locs : location of particular rectangle surrounding the face , pred  predictions\n",
        "\n",
        "  #TUPLE UNPACKING\n",
        "for (box,pred) in zip(locs,preds):\n",
        "  (startX, startY, endX, endY) = box #stasrtX = x1, startY = y1, endX = x2, endY = y2\n",
        "  (mask,withoutMask) = pred\n",
        "  label = \"Mask\" if mask>withoutMask else \"No Mask\"    #setting labels\n",
        "  color = (0,255,0) if label == \"Mask\" else (0,0,255)\n",
        "  # color encoding : here we use BGR as (0,255,0) means G for Green is the color chosen to the boxes id mask is present and red when there is no mask as in (0,0,255)\n",
        "  #including probability in the label\n",
        "  label = \"{}:{:.2f}%\".format(label,max(mask,withoutMask)*100)\n",
        "                 #output the labels\n",
        "  cv2.putText(frame,label,(startX,startY-10),cv2.FONT_HERSHEY_SIMPLEX,0.45, color, 2)# startY is subtrated 10 pixels so that it does  noe overlab the startX value\n",
        "                  # OUTPT OF THE FRAME\n",
        "  # defining the font as Hershey_Simplex,\n",
        "  cv2.rectangle(frame,(startX,startY),(endX,endY),color,2)  #2 : thickness of the rectangle\n",
        "#cv2_imshow(frame)# command to show output cv2_imshow works only on colab and not  universally\n",
        "cv2.imwrite('/content/1.png', frame) # used to save an image\n",
        "#key = cv2.waitKey(1)& 0xFF # not required in colab\n",
        "#if key == ord(\"q\"):\n",
        "#  break"
      ],
      "metadata": {
        "id": "uA3xQUIrrDHj",
        "colab": {
          "base_uri": "https://localhost:8080/"
        },
        "outputId": "7e801f2e-f35e-4759-8152-431a0122631d"
      },
      "execution_count": 30,
      "outputs": [
        {
          "output_type": "stream",
          "name": "stdout",
          "text": [
            "(1, 1, 200, 7)\n",
            "1/1 [==============================] - 3s 3s/step\n"
          ]
        },
        {
          "output_type": "execute_result",
          "data": {
            "text/plain": [
              "True"
            ]
          },
          "metadata": {},
          "execution_count": 30
        }
      ]
    },
    {
      "cell_type": "code",
      "source": [
        "cv2.destroyAllWindows()\n",
        "vs.stop()"
      ],
      "metadata": {
        "id": "kwx9EpUYwuw1"
      },
      "execution_count": 31,
      "outputs": []
    },
    {
      "cell_type": "code",
      "source": [],
      "metadata": {
        "id": "BDR8iwFPe4Pp"
      },
      "execution_count": 31,
      "outputs": []
    },
    {
      "cell_type": "code",
      "source": [
        "# CODE FOR MODEL"
      ],
      "metadata": {
        "id": "TFgBzg7uog77"
      },
      "execution_count": null,
      "outputs": []
    },
    {
      "cell_type": "code",
      "source": [
        "from tensorflow.keras.preprocessing.image import ImageDataGenerator\n",
        "from tensorflow.keras.applications import MobileNetV2\n",
        "from tensorflow.keras.layers import AveragePooling2D , Dropout , Flatten , Dense, Input\n",
        "from tensorflow.keras.models import Model\n",
        "from tensorflow.keras.optimizers import Adam\n",
        "from tensorflow.keras.applications.mobilenet_v2 import preprocess_input\n",
        "from tensorflow.keras.preprocessing.image import img_to_array\n",
        "from tensorflow.keras.preprocessing.image import load_img\n",
        "from tensorflow.keras.utils import to_categorical\n",
        "from sklearn.preprocessing  import LabelBinarizer\n",
        "from sklearn.model_selection import  train_test_split\n",
        "from sklearn.metrics import confusion_matrix, classification_report\n",
        "from imutils import paths\n",
        "import matplotlib.pyplot as plt\n",
        "import numpy as np\n",
        "import os"
      ],
      "metadata": {
        "id": "22SNnL-yokXR"
      },
      "execution_count": 3,
      "outputs": []
    },
    {
      "cell_type": "code",
      "source": [
        "# preprocessing"
      ],
      "metadata": {
        "id": "gHNCHUrlpHmd"
      },
      "execution_count": 4,
      "outputs": []
    },
    {
      "cell_type": "code",
      "source": [
        "# define directory with the datapath where the folder is present\n",
        "DIRECTORY = r\"/content/Face-Mask-Detection/dataset\"\n",
        "CATEGORIES = [\"with_mask\", \"without_mask\"] # with_mask and without_mask are the folders inside Directory not stored in list names CATEGORIES"
      ],
      "metadata": {
        "id": "yJX1-CLvpKS6"
      },
      "execution_count": 5,
      "outputs": []
    },
    {
      "cell_type": "code",
      "source": [
        "# create two empty lists  of data and labels\n",
        "data = []\n",
        "labels = []"
      ],
      "metadata": {
        "id": "EqTmj06NpMwz"
      },
      "execution_count": 6,
      "outputs": []
    },
    {
      "cell_type": "code",
      "source": [
        "# looping through categories\n",
        "for category in CATEGORIES:\n",
        "  path = os.path.join(DIRECTORY, category)# first looping through with_mask then through without_mask in order to get the path of with_mask and without_mask\n",
        "  for img in os.listdir(path): #listdir function listes down all images in the particular directory\n",
        "    img_path = os.path.join(path,img)# join the patahs of the particular with_mask to the corresponding image followed my without_mask to the corresponding image\n",
        "    image = load_img(img_path, target_size= (224,224)) # target size gives the height and width of the image, converting all the images to target sizeto amke them uniform\n",
        "    image = img_to_array(image)\n",
        "    image = preprocess_input(image) #we'll be using mobilenet model, whenever we needto use mobile net, we need to preprocess  input\n",
        "\n",
        "    data.append(image)\n",
        "    labels.append(category) # category : with_mask , without_mask\n",
        " #data list contains numerical values, labels : alphabetic values i.e with_mask, without_mask\n"
      ],
      "metadata": {
        "colab": {
          "base_uri": "https://localhost:8080/"
        },
        "id": "GmAJMMd_pgCH",
        "outputId": "b89fd25a-954c-4f09-f792-beec7c8783c5"
      },
      "execution_count": 7,
      "outputs": [
        {
          "output_type": "stream",
          "name": "stderr",
          "text": [
            "/usr/local/lib/python3.10/dist-packages/PIL/Image.py:996: UserWarning: Palette images with Transparency expressed in bytes should be converted to RGBA images\n",
            "  warnings.warn(\n"
          ]
        }
      ]
    },
    {
      "cell_type": "markdown",
      "source": [
        "data list contains numerical values, labels : alphabetic values i.e with_mask, without_mask\n",
        "\n",
        "To change alphabetic values of labels into numberic, we use labelBinarizer model\n",
        "\n",
        "hence we'll fit the labels list to this model"
      ],
      "metadata": {
        "id": "NQR6EfCfpsnP"
      }
    },
    {
      "cell_type": "code",
      "source": [
        "lb = LabelBinarizer()\n",
        "labels = lb.fit_transform(labels)\n",
        "labels = to_categorical(labels)"
      ],
      "metadata": {
        "id": "SUuo2X7WpjEq"
      },
      "execution_count": 8,
      "outputs": []
    },
    {
      "cell_type": "code",
      "source": [
        "#convert the data and labels to numpy arrays\n",
        "data = np.array(data, dtype = \"float32\")\n",
        "label=  np.array(labels)"
      ],
      "metadata": {
        "id": "xUHrd3HKpvBA"
      },
      "execution_count": 9,
      "outputs": []
    },
    {
      "cell_type": "code",
      "source": [
        "#dividing the data into train, test and split folder\n",
        "(trainX, testX, trainY, testY) = train_test_split(data, labels, test_size = 0.2, random_state = 50)"
      ],
      "metadata": {
        "id": "fqKCcHP3pw9v"
      },
      "execution_count": 10,
      "outputs": []
    },
    {
      "cell_type": "markdown",
      "source": [
        "TRAINING"
      ],
      "metadata": {
        "id": "zTMlhW5rp3Cl"
      }
    },
    {
      "cell_type": "code",
      "source": [
        "#set initial learning rate: it should be less, epochs and batch size\n",
        "LR = 1e-4 #learning rate\n",
        "EPOCHS = 20\n",
        "BatchSize = 96"
      ],
      "metadata": {
        "id": "w5Mm9QK6p2PH"
      },
      "execution_count": 11,
      "outputs": []
    },
    {
      "cell_type": "code",
      "source": [
        "#data Augmentation\n",
        "aug = ImageDataGenerator(\n",
        "    rotation_range = 20,\n",
        "    zoom_range = 0.15,\n",
        "    width_shift_range = 0.2,\n",
        "    height_shift_range = 0.2,\n",
        "    shear_range = 0.15,\n",
        "    horizontal_flip = True,\n",
        "    fill_mode = \"nearest\"\n",
        ")"
      ],
      "metadata": {
        "id": "R1VpmGqmp-LZ"
      },
      "execution_count": 12,
      "outputs": []
    },
    {
      "cell_type": "code",
      "source": [
        "#Modeling\n",
        "baseModel = MobileNetV2(weights = \"imagenet\", include_top = False , input_tensor = Input(shape=(224,224,3)))\n",
        "# imagenet : pretrained mmodel for images with better weights for better results\n",
        "#include_top : wheter include fullyy connected layer at the top of our network\n",
        "#input_tensor : shape of the image the model is going through , here 224,224 is image size and 3 is number of input channels\n",
        "#coloured images have 3 channels : R,G,B"
      ],
      "metadata": {
        "colab": {
          "base_uri": "https://localhost:8080/"
        },
        "id": "WTm6246xqNkf",
        "outputId": "a9a516bf-91dc-4966-c751-33fb6c901153"
      },
      "execution_count": 13,
      "outputs": [
        {
          "output_type": "stream",
          "name": "stderr",
          "text": [
            "WARNING:tensorflow:`input_shape` is undefined or non-square, or `rows` is not in [96, 128, 160, 192, 224]. Weights for input shape (224, 224) will be loaded as the default.\n"
          ]
        },
        {
          "output_type": "stream",
          "name": "stdout",
          "text": [
            "Downloading data from https://storage.googleapis.com/tensorflow/keras-applications/mobilenet_v2/mobilenet_v2_weights_tf_dim_ordering_tf_kernels_1.0_224_no_top.h5\n",
            "9406464/9406464 [==============================] - 0s 0us/step\n"
          ]
        }
      ]
    },
    {
      "cell_type": "code",
      "source": [
        "#constructing our fully connected layer by using pooling stuffs\n",
        "headmodel = baseModel.output\n",
        "headmodel = AveragePooling2D(pool_size =(7,7))(headmodel)\n",
        "headmodel = Flatten(name = \"flatten\")(headmodel)\n",
        "headmodel = Dense(128,activation = \"relu\")(headmodel) #dense layer is 128 neurons, relu is used for non linear used cases i.e in mostly image data , we use relu activation fnction INPUT LAYER\n",
        "headmodel = Dropout(0.5)(headmodel)# to avoid overfitting\n",
        "headmodel = Dense(2,activation = \"softmax\")(headmodel)# OUTPUT LAYER consists of two layers: with_mask, without_mask ,, Activation :softmax as  it gives probability based 0s and 1s values\n",
        "\n",
        "model = Model(inputs = baseModel.input , outputs = headmodel) # final model on which we'll work"
      ],
      "metadata": {
        "id": "BONEGe_tqRPJ"
      },
      "execution_count": 14,
      "outputs": []
    },
    {
      "cell_type": "code",
      "source": [
        "# we need to freeze the initial layers in the base model so that they will not be updated in the first training process\n",
        "for layer in baseModel.layers:\n",
        "  layer.trainable = False"
      ],
      "metadata": {
        "id": "e-xRISevqXOb"
      },
      "execution_count": 15,
      "outputs": []
    },
    {
      "cell_type": "code",
      "source": [
        "#compiling model\n",
        "print(\"compiling model ....\")\n",
        "# we're using Adam optimizer\n",
        "opt = Adam(learning_rate = LR)\n",
        "model.compile(loss = \"binary_crossentropy\",optimizer=opt,metrics = [\"accuracy\"])"
      ],
      "metadata": {
        "colab": {
          "base_uri": "https://localhost:8080/"
        },
        "id": "BwlW2EUoqZtL",
        "outputId": "79930977-d21e-4719-902d-6a488cbcdd02"
      },
      "execution_count": 16,
      "outputs": [
        {
          "output_type": "stream",
          "name": "stdout",
          "text": [
            "compiling model ....\n"
          ]
        }
      ]
    },
    {
      "cell_type": "code",
      "source": [
        "#training model\n",
        "H = model.fit(aug.flow(trainX,trainY, batch_size = BatchSize), steps_per_epoch=len(trainX)//BatchSize,\n",
        "              validation_data = (testX, testY),validation_steps= len(testX)//BatchSize, epochs = EPOCHS)"
      ],
      "metadata": {
        "colab": {
          "base_uri": "https://localhost:8080/"
        },
        "id": "S3rmr11Sqc59",
        "outputId": "78a4ccda-0286-4f46-c39c-e13abaa38123"
      },
      "execution_count": 17,
      "outputs": [
        {
          "output_type": "stream",
          "name": "stdout",
          "text": [
            "Epoch 1/20\n",
            "31/31 [==============================] - 62s 2s/step - loss: 0.6067 - accuracy: 0.7394 - val_loss: 0.3323 - val_accuracy: 0.9492\n",
            "Epoch 2/20\n",
            "31/31 [==============================] - 42s 1s/step - loss: 0.2996 - accuracy: 0.9259 - val_loss: 0.1897 - val_accuracy: 0.9661\n",
            "Epoch 3/20\n",
            "31/31 [==============================] - 43s 1s/step - loss: 0.1938 - accuracy: 0.9502 - val_loss: 0.1319 - val_accuracy: 0.9739\n",
            "Epoch 4/20\n",
            "31/31 [==============================] - 43s 1s/step - loss: 0.1469 - accuracy: 0.9630 - val_loss: 0.1051 - val_accuracy: 0.9765\n",
            "Epoch 5/20\n",
            "31/31 [==============================] - 42s 1s/step - loss: 0.1198 - accuracy: 0.9727 - val_loss: 0.0868 - val_accuracy: 0.9817\n",
            "Epoch 6/20\n",
            "31/31 [==============================] - 43s 1s/step - loss: 0.1016 - accuracy: 0.9731 - val_loss: 0.0772 - val_accuracy: 0.9831\n",
            "Epoch 7/20\n",
            "31/31 [==============================] - 43s 1s/step - loss: 0.0901 - accuracy: 0.9778 - val_loss: 0.0687 - val_accuracy: 0.9804\n",
            "Epoch 8/20\n",
            "31/31 [==============================] - 42s 1s/step - loss: 0.0787 - accuracy: 0.9785 - val_loss: 0.0620 - val_accuracy: 0.9831\n",
            "Epoch 9/20\n",
            "31/31 [==============================] - 43s 1s/step - loss: 0.0699 - accuracy: 0.9811 - val_loss: 0.0566 - val_accuracy: 0.9844\n",
            "Epoch 10/20\n",
            "31/31 [==============================] - 43s 1s/step - loss: 0.0569 - accuracy: 0.9862 - val_loss: 0.0525 - val_accuracy: 0.9844\n",
            "Epoch 11/20\n",
            "31/31 [==============================] - 43s 1s/step - loss: 0.0597 - accuracy: 0.9842 - val_loss: 0.0515 - val_accuracy: 0.9857\n",
            "Epoch 12/20\n",
            "31/31 [==============================] - 43s 1s/step - loss: 0.0574 - accuracy: 0.9822 - val_loss: 0.0473 - val_accuracy: 0.9844\n",
            "Epoch 13/20\n",
            "31/31 [==============================] - 43s 1s/step - loss: 0.0501 - accuracy: 0.9862 - val_loss: 0.0482 - val_accuracy: 0.9870\n",
            "Epoch 14/20\n",
            "31/31 [==============================] - 43s 1s/step - loss: 0.0497 - accuracy: 0.9852 - val_loss: 0.0431 - val_accuracy: 0.9857\n",
            "Epoch 15/20\n",
            "31/31 [==============================] - 42s 1s/step - loss: 0.0511 - accuracy: 0.9855 - val_loss: 0.0421 - val_accuracy: 0.9870\n",
            "Epoch 16/20\n",
            "31/31 [==============================] - 42s 1s/step - loss: 0.0534 - accuracy: 0.9852 - val_loss: 0.0422 - val_accuracy: 0.9883\n",
            "Epoch 17/20\n",
            "31/31 [==============================] - 43s 1s/step - loss: 0.0435 - accuracy: 0.9859 - val_loss: 0.0404 - val_accuracy: 0.9870\n",
            "Epoch 18/20\n",
            "31/31 [==============================] - 42s 1s/step - loss: 0.0412 - accuracy: 0.9902 - val_loss: 0.0393 - val_accuracy: 0.9870\n",
            "Epoch 19/20\n",
            "31/31 [==============================] - 42s 1s/step - loss: 0.0405 - accuracy: 0.9902 - val_loss: 0.0404 - val_accuracy: 0.9883\n",
            "Epoch 20/20\n",
            "31/31 [==============================] - 43s 1s/step - loss: 0.0356 - accuracy: 0.9882 - val_loss: 0.0368 - val_accuracy: 0.9870\n"
          ]
        }
      ]
    },
    {
      "cell_type": "markdown",
      "source": [
        "MAKING PREDICTIONS"
      ],
      "metadata": {
        "id": "GlWs5t9lqsS9"
      }
    },
    {
      "cell_type": "code",
      "source": [
        "predIds = model.predict(testX, batch_size = BatchSize) #evaluating model\n",
        "predIds = np.argmax(predIds, axis = 1) #to find index of the label to get hte highest predicted probability\n",
        "print(classification_report(testY.argmax(axis=1), predIds, target_names = lb.classes_))"
      ],
      "metadata": {
        "colab": {
          "base_uri": "https://localhost:8080/"
        },
        "id": "6p7cF_-7qg5t",
        "outputId": "ba0ae4e1-4364-4475-dd6b-5bc52612fce0"
      },
      "execution_count": 18,
      "outputs": [
        {
          "output_type": "stream",
          "name": "stdout",
          "text": [
            "8/8 [==============================] - 3s 258ms/step\n",
            "              precision    recall  f1-score   support\n",
            "\n",
            "   with_mask       0.98      0.99      0.99       377\n",
            "without_mask       0.99      0.98      0.99       390\n",
            "\n",
            "    accuracy                           0.99       767\n",
            "   macro avg       0.99      0.99      0.99       767\n",
            "weighted avg       0.99      0.99      0.99       767\n",
            "\n"
          ]
        }
      ]
    },
    {
      "cell_type": "code",
      "source": [
        "#saving the generated model\n",
        "model.save(\"mask_detector.keras\" , save_format= \"h5\")"
      ],
      "metadata": {
        "colab": {
          "base_uri": "https://localhost:8080/"
        },
        "id": "smg3MpV6qvtB",
        "outputId": "eab995d9-c054-43b2-e5e9-ec66e9009065"
      },
      "execution_count": 19,
      "outputs": [
        {
          "output_type": "stream",
          "name": "stderr",
          "text": [
            "/usr/local/lib/python3.10/dist-packages/keras/src/engine/training.py:3079: UserWarning: You are saving your model as an HDF5 file via `model.save()`. This file format is considered legacy. We recommend using instead the native Keras format, e.g. `model.save('my_model.keras')`.\n",
            "  saving_api.save_model(\n"
          ]
        }
      ]
    },
    {
      "cell_type": "code",
      "source": [
        "#plotting training loss and accuracy\n",
        "N = EPOCHS\n",
        "plt.style.use(\"ggplot\")\n"
      ],
      "metadata": {
        "id": "KYnF58cnqzkS"
      },
      "execution_count": 20,
      "outputs": []
    },
    {
      "cell_type": "code",
      "source": [
        "plt.figure()"
      ],
      "metadata": {
        "colab": {
          "base_uri": "https://localhost:8080/",
          "height": 52
        },
        "id": "-aa-2ZW_q0-y",
        "outputId": "e3bb4494-6405-4d0a-e361-33024e1b73f0"
      },
      "execution_count": 21,
      "outputs": [
        {
          "output_type": "execute_result",
          "data": {
            "text/plain": [
              "<Figure size 640x480 with 0 Axes>"
            ]
          },
          "metadata": {},
          "execution_count": 21
        },
        {
          "output_type": "display_data",
          "data": {
            "text/plain": [
              "<Figure size 640x480 with 0 Axes>"
            ]
          },
          "metadata": {}
        }
      ]
    },
    {
      "cell_type": "code",
      "source": [
        "plt.plot(np.arange(0,N), H.history[\"loss\"],label = \"train_loss\")\n",
        "plt.plot(np.arange(0,N), H.history[\"val_loss\"],label = \"val_loss\")\n",
        "plt.plot(np.arange(0,N), H.history[\"accuracy\"],label = \"train_acc\")\n",
        "plt.plot(np.arange(0,N), H.history[\"val_accuracy\"],label = \"val_acc\")\n",
        "plt.title(\"training loss and energy\")\n",
        "plt.xlabel(\"Epoch\")\n",
        "plt.ylabel(\"loss/accuracy\")\n",
        "#plt.legend(LOC = \"lower left\")\n",
        "plt.savefig(\"plot.png\")"
      ],
      "metadata": {
        "colab": {
          "base_uri": "https://localhost:8080/",
          "height": 477
        },
        "id": "HrPGxjpFq3Mj",
        "outputId": "8fead2f5-d0de-4db7-8ba6-8f075c06ae50"
      },
      "execution_count": 22,
      "outputs": [
        {
          "output_type": "display_data",
          "data": {
            "text/plain": [
              "<Figure size 640x480 with 1 Axes>"
            ],
            "image/png": "[encoded data removed]"
          },
          "metadata": {}
        }
      ]
    },
    {
      "cell_type": "code",
      "source": [],
      "metadata": {
        "id": "sfXkeJ_9q5JY"
      },
      "execution_count": null,
      "outputs": []
    }
  ]
}