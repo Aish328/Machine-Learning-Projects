{
  "nbformat": 4,
  "nbformat_minor": 0,
  "metadata": {
    "colab": {
      "provenance": [],
      "gpuType": "T4"
    },
    "kernelspec": {
      "name": "python3",
      "display_name": "Python 3"
    },
    "language_info": {
      "name": "python"
    },
    "accelerator": "GPU"
  },
  "cells": [
    {
      "cell_type": "code",
      "execution_count": 2,
      "metadata": {
        "id": "EvgS-4icqwCB",
        "colab": {
          "base_uri": "https://localhost:8080/"
        },
        "outputId": "c0ec1e9d-5d8e-4735-c396-b06bf64614f4"
      },
      "outputs": [
        {
          "output_type": "stream",
          "name": "stdout",
          "text": [
            "Cloning into 'Face-Mask-Detection'...\n",
            "remote: Enumerating objects: 3770, done.\u001b[K\n",
            "remote: Counting objects: 100% (6/6), done.\u001b[K\n",
            "remote: Compressing objects: 100% (6/6), done.\u001b[K\n",
            "remote: Total 3770 (delta 2), reused 0 (delta 0), pack-reused 3764\u001b[K\n",
            "Receiving objects: 100% (3770/3770), 143.05 MiB | 16.51 MiB/s, done.\n",
            "Resolving deltas: 100% (4/4), done.\n",
            "Updating files: 100% (3840/3840), done.\n"
          ]
        }
      ],
      "source": [
        "! git clone https://github.com/balajisrinivas/Face-Mask-Detection.git\n"
      ]
    },
    {
      "cell_type": "code",
      "source": [
        "from tensorflow.keras.preprocessing.image import ImageDataGenerator\n",
        "from tensorflow.keras.applications import MobileNetV2\n",
        "from tensorflow.keras.layers import AveragePooling2D , Dropout , Flatten , Dense, Input\n",
        "from tensorflow.keras.models import Model\n",
        "from tensorflow.keras.optimizers import Adam\n",
        "from tensorflow.keras.applications.mobilenet_v2 import preprocess_input\n",
        "from tensorflow.keras.preprocessing.image import img_to_array\n",
        "from tensorflow.keras.preprocessing.image import load_img\n",
        "from tensorflow.keras.utils import to_categorical\n",
        "from sklearn.preprocessing  import LabelBinarizer\n",
        "from sklearn.model_selection import  train_test_split\n",
        "from sklearn.metrics import confusion_matrix, classification_report\n",
        "from imutils import paths\n",
        "import matplotlib.pyplot as plt\n",
        "import numpy as np\n",
        "import os"
      ],
      "metadata": {
        "id": "Tz4zc7N3YnFZ"
      },
      "execution_count": 3,
      "outputs": []
    },
    {
      "cell_type": "markdown",
      "source": [
        "  PREPROCESSING\n",
        "  "
      ],
      "metadata": {
        "id": "iQABLzuYg7uF"
      }
    },
    {
      "cell_type": "code",
      "source": [
        " # define directory with the datapath where the folder is present\n",
        " DIRECTORY = r\"/content/Face-Mask-Detection/dataset\"\n",
        "CATEGORIES = [\"with_mask\", \"without_mask\"] # with_mask and without_mask are the folders inside Directory not stored in list names CATEGORIES"
      ],
      "metadata": {
        "id": "hxouzYq3ZtQO"
      },
      "execution_count": 4,
      "outputs": []
    },
    {
      "cell_type": "code",
      "source": [
        "# create two empty lists  of data and labels\n",
        "data = []\n",
        "labels = []"
      ],
      "metadata": {
        "id": "9sG4HnMsdQTx"
      },
      "execution_count": 5,
      "outputs": []
    },
    {
      "cell_type": "code",
      "source": [
        "\n",
        "# looping through categories\n",
        "for category in CATEGORIES:\n",
        "  path = os.path.join(DIRECTORY, category)# first looping through with_mask then through without_mask in order to get the path of with_mask and without_mask\n",
        "  for img in os.listdir(path): #listdir function listes down all images in the particular directory\n",
        "    img_path = os.path.join(path,img)# join the patahs of the particular with_mask to the corresponding image followed my without_mask to the corresponding image\n",
        "    image = load_img(img_path, target_size= (224,224)) # target size gives the height and width of the image, converting all the images to target sizeto amke them uniform\n",
        "    image = img_to_array(image)\n",
        "    image = preprocess_input(image) #we'll be using mobilenet model, whenever we needto use mobile net, we need to preprocess  input\n",
        "\n",
        "    data.append(image)\n",
        "    labels.append(category) # category : with_mask , without_mask\n",
        " #data list contains numerical values, labels : alphabetic values i.e with_mask, without_mask\n",
        "\n"
      ],
      "metadata": {
        "colab": {
          "base_uri": "https://localhost:8080/"
        },
        "id": "SdnIi9uoeXFJ",
        "outputId": "d95ef30b-da28-4bd3-983e-b57f5f3af2ac"
      },
      "execution_count": 6,
      "outputs": [
        {
          "output_type": "stream",
          "name": "stderr",
          "text": [
            "/usr/local/lib/python3.10/dist-packages/PIL/Image.py:996: UserWarning: Palette images with Transparency expressed in bytes should be converted to RGBA images\n",
            "  warnings.warn(\n"
          ]
        }
      ]
    },
    {
      "cell_type": "markdown",
      "source": [
        " data list contains numerical values, labels : alphabetic values i.e with_mask, without_mask\n",
        "\n",
        " To change alphabetic values of labels into numberic, we use labelBinarizer model\n",
        "\n",
        " hence we'll fit the labels list to this model\n",
        "\n"
      ],
      "metadata": {
        "id": "DMpTg4oUinId"
      }
    },
    {
      "cell_type": "code",
      "source": [
        "\n",
        "lb = LabelBinarizer()\n",
        "labels = lb.fit_transform(labels)\n",
        "labels = to_categorical(labels)"
      ],
      "metadata": {
        "id": "gux_jWpLhqBa"
      },
      "execution_count": 7,
      "outputs": []
    },
    {
      "cell_type": "code",
      "source": [
        "#convert the data and labels to numpy arrays\n",
        "data = np.array(data, dtype = \"float32\")\n",
        "label=  np.array(labels)"
      ],
      "metadata": {
        "id": "zqyNAxaPjhcs"
      },
      "execution_count": 8,
      "outputs": []
    },
    {
      "cell_type": "code",
      "source": [
        "#dividing the data into train, test and split folder\n",
        "(trainX, testX, trainY, testY) = train_test_split(data, labels, test_size = 0.2, random_state = 50)"
      ],
      "metadata": {
        "id": "-GkTSe9Gj_xH"
      },
      "execution_count": 9,
      "outputs": []
    },
    {
      "cell_type": "markdown",
      "source": [
        "THAT WAS ALL ABOUT PRE-PROCESSING\n"
      ],
      "metadata": {
        "id": "u6d_iUJGk88a"
      }
    },
    {
      "cell_type": "markdown",
      "source": [
        "\n",
        "\n",
        "\n",
        "\n",
        ">HERE COMES TRAINING\n",
        "\n",
        "\n"
      ],
      "metadata": {
        "id": "9l1BOTBrlEFc"
      }
    },
    {
      "cell_type": "code",
      "source": [
        "#set initial learning rate: it should be less, epochs and batch size\n",
        "LR = 1e-4 #learning rate\n",
        "EPOCHS = 20\n",
        "BatchSize = 96"
      ],
      "metadata": {
        "id": "J3R4oO9qu88F"
      },
      "execution_count": 10,
      "outputs": []
    },
    {
      "cell_type": "code",
      "source": [
        "#data Augmentation\n",
        "aug = ImageDataGenerator(\n",
        "    rotation_range = 20,\n",
        "    zoom_range = 0.15,\n",
        "    width_shift_range = 0.2,\n",
        "    height_shift_range = 0.2,\n",
        "    shear_range = 0.15,\n",
        "    horizontal_flip = True,\n",
        "    fill_mode = \"nearest\"\n",
        ")"
      ],
      "metadata": {
        "id": "BDsUGBTokdHA"
      },
      "execution_count": 11,
      "outputs": []
    },
    {
      "cell_type": "code",
      "source": [
        "#Modeling\n",
        "baseModel = MobileNetV2(weights = \"imagenet\", include_top = False , input_tensor = Input(shape=(224,224,3)))\n",
        "# imagenet : pretrained mmodel for images with better weights for better results\n",
        "#include_top : wheter include fullyy connected layer at the top of our network\n",
        "#input_tensor : shape of the image the model is going through , here 224,224 is image size and 3 is number of input channels\n",
        "#coloured images have 3 channels : R,G,B\n"
      ],
      "metadata": {
        "colab": {
          "base_uri": "https://localhost:8080/"
        },
        "id": "Wun4sU5NwmSu",
        "outputId": "e5f24bc2-1be9-479b-ad93-1ffaebd1af7e"
      },
      "execution_count": 12,
      "outputs": [
        {
          "output_type": "stream",
          "name": "stderr",
          "text": [
            "WARNING:tensorflow:`input_shape` is undefined or non-square, or `rows` is not in [96, 128, 160, 192, 224]. Weights for input shape (224, 224) will be loaded as the default.\n"
          ]
        },
        {
          "output_type": "stream",
          "name": "stdout",
          "text": [
            "Downloading data from https://storage.googleapis.com/tensorflow/keras-applications/mobilenet_v2/mobilenet_v2_weights_tf_dim_ordering_tf_kernels_1.0_224_no_top.h5\n",
            "9406464/9406464 [==============================] - 2s 0us/step\n"
          ]
        }
      ]
    },
    {
      "cell_type": "code",
      "source": [
        "#constructing our fully connected layer by using pooling stuffs\n",
        "headmodel = baseModel.output\n",
        "headmodel = AveragePooling2D(pool_size =(7,7))(headmodel)\n",
        "headmodel = Flatten(name = \"flatten\")(headmodel)\n",
        "headmodel = Dense(128,activation = \"relu\")(headmodel) #dense layer is 128 neurons, relu is used for non linear used cases i.e in mostly image data , we use relu activation fnction INPUT LAYER\n",
        "headmodel = Dropout(0.5)(headmodel)# to avoid overfitting\n",
        "headmodel = Dense(2,activation = \"softmax\")(headmodel)# OUTPUT LAYER consists of two layers: with_mask, without_mask ,, Activation :softmax as  it gives probability based 0s and 1s values\n",
        "\n",
        "model = Model(inputs = baseModel.input , outputs = headmodel) # final model on which we'll work"
      ],
      "metadata": {
        "id": "FL2GxyiJxetf"
      },
      "execution_count": 13,
      "outputs": []
    },
    {
      "cell_type": "code",
      "source": [
        "# we need to freeze the initial layers in the base model so that they will not be updated in the first training process\n",
        "for layer in baseModel.layers:\n",
        "  layer.trainable = False"
      ],
      "metadata": {
        "id": "p73ok6me0-TD"
      },
      "execution_count": 14,
      "outputs": []
    },
    {
      "cell_type": "code",
      "source": [
        "\n",
        "#compiling model\n",
        "print(\"compiling model ....\")\n",
        "# we're using Adam optimizer\n",
        "opt = Adam(learning_rate = LR)\n",
        "model.compile(loss = \"binary_crossentropy\",optimizer=opt,metrics = [\"accuracy\"])"
      ],
      "metadata": {
        "colab": {
          "base_uri": "https://localhost:8080/"
        },
        "id": "hYQuv9Vu1gXj",
        "outputId": "78d85333-8d09-4897-b11b-ceb5663e94b7"
      },
      "execution_count": 15,
      "outputs": [
        {
          "output_type": "stream",
          "name": "stdout",
          "text": [
            "compiling model ....\n"
          ]
        }
      ]
    },
    {
      "cell_type": "code",
      "source": [
        "#training model\n",
        "H = model.fit(aug.flow(trainX,trainY, batch_size = BatchSize), steps_per_epoch=len(trainX)//BatchSize,\n",
        "              validation_data = (testX, testY),validation_steps= len(testX)//BatchSize, epochs = EPOCHS)"
      ],
      "metadata": {
        "colab": {
          "base_uri": "https://localhost:8080/"
        },
        "id": "GY1osy7z2UWt",
        "outputId": "43319df7-f5e0-4198-fdd7-7922bc46c7b7"
      },
      "execution_count": 16,
      "outputs": [
        {
          "output_type": "stream",
          "name": "stdout",
          "text": [
            "Epoch 1/20\n",
            "31/31 [==============================] - 69s 2s/step - loss: 0.5514 - accuracy: 0.7811 - val_loss: 0.3058 - val_accuracy: 0.9635\n",
            "Epoch 2/20\n",
            "31/31 [==============================] - 49s 2s/step - loss: 0.2740 - accuracy: 0.9347 - val_loss: 0.1666 - val_accuracy: 0.9791\n",
            "Epoch 3/20\n",
            "31/31 [==============================] - 46s 1s/step - loss: 0.1722 - accuracy: 0.9582 - val_loss: 0.1144 - val_accuracy: 0.9831\n",
            "Epoch 4/20\n",
            "31/31 [==============================] - 53s 2s/step - loss: 0.1306 - accuracy: 0.9680 - val_loss: 0.0883 - val_accuracy: 0.9857\n",
            "Epoch 5/20\n",
            "31/31 [==============================] - 40s 1s/step - loss: 0.1142 - accuracy: 0.9697 - val_loss: 0.0762 - val_accuracy: 0.9857\n",
            "Epoch 6/20\n",
            "31/31 [==============================] - 41s 1s/step - loss: 0.0859 - accuracy: 0.9768 - val_loss: 0.0658 - val_accuracy: 0.9857\n",
            "Epoch 7/20\n",
            "31/31 [==============================] - 41s 1s/step - loss: 0.0852 - accuracy: 0.9774 - val_loss: 0.0606 - val_accuracy: 0.9870\n",
            "Epoch 8/20\n",
            "31/31 [==============================] - 41s 1s/step - loss: 0.0712 - accuracy: 0.9838 - val_loss: 0.0580 - val_accuracy: 0.9870\n",
            "Epoch 9/20\n",
            "31/31 [==============================] - 40s 1s/step - loss: 0.0679 - accuracy: 0.9815 - val_loss: 0.0519 - val_accuracy: 0.9870\n",
            "Epoch 10/20\n",
            "31/31 [==============================] - 40s 1s/step - loss: 0.0677 - accuracy: 0.9808 - val_loss: 0.0490 - val_accuracy: 0.9870\n",
            "Epoch 11/20\n",
            "31/31 [==============================] - 39s 1s/step - loss: 0.0556 - accuracy: 0.9855 - val_loss: 0.0465 - val_accuracy: 0.9857\n",
            "Epoch 12/20\n",
            "31/31 [==============================] - 39s 1s/step - loss: 0.0543 - accuracy: 0.9832 - val_loss: 0.0502 - val_accuracy: 0.9870\n",
            "Epoch 13/20\n",
            "31/31 [==============================] - 42s 1s/step - loss: 0.0520 - accuracy: 0.9852 - val_loss: 0.0461 - val_accuracy: 0.9857\n",
            "Epoch 14/20\n",
            "31/31 [==============================] - 40s 1s/step - loss: 0.0468 - accuracy: 0.9889 - val_loss: 0.0427 - val_accuracy: 0.9870\n",
            "Epoch 15/20\n",
            "31/31 [==============================] - 40s 1s/step - loss: 0.0482 - accuracy: 0.9872 - val_loss: 0.0413 - val_accuracy: 0.9870\n",
            "Epoch 16/20\n",
            "31/31 [==============================] - 38s 1s/step - loss: 0.0461 - accuracy: 0.9845 - val_loss: 0.0418 - val_accuracy: 0.9857\n",
            "Epoch 17/20\n",
            "31/31 [==============================] - 38s 1s/step - loss: 0.0408 - accuracy: 0.9902 - val_loss: 0.0431 - val_accuracy: 0.9857\n",
            "Epoch 18/20\n",
            "31/31 [==============================] - 38s 1s/step - loss: 0.0444 - accuracy: 0.9869 - val_loss: 0.0394 - val_accuracy: 0.9870\n",
            "Epoch 19/20\n",
            "31/31 [==============================] - 40s 1s/step - loss: 0.0439 - accuracy: 0.9876 - val_loss: 0.0391 - val_accuracy: 0.9857\n",
            "Epoch 20/20\n",
            "31/31 [==============================] - 43s 1s/step - loss: 0.0358 - accuracy: 0.9882 - val_loss: 0.0399 - val_accuracy: 0.9870\n"
          ]
        }
      ]
    },
    {
      "cell_type": "markdown",
      "source": [
        "MAKING PREDICTIONS"
      ],
      "metadata": {
        "id": "U9el1l2EY_-0"
      }
    },
    {
      "cell_type": "code",
      "source": [
        "print(\"EVALUAION OF NETWORK\")"
      ],
      "metadata": {
        "colab": {
          "base_uri": "https://localhost:8080/"
        },
        "id": "rD_UdMCf4GoK",
        "outputId": "911b0c5c-e49a-4295-ece9-67a03635722c"
      },
      "execution_count": 17,
      "outputs": [
        {
          "output_type": "stream",
          "name": "stdout",
          "text": [
            "EVALUAION OF NETWORK\n"
          ]
        }
      ]
    },
    {
      "cell_type": "code",
      "source": [
        "predIds = model.predict(testX, batch_size = BatchSize) #evaluating model\n",
        "predIds = np.argmax(predIds, axis = 1) #to find index of the label to get hte highest predicted probability\n",
        "print(classification_report(testY.argmax(axis=1), predIds, target_names = lb.classes_))"
      ],
      "metadata": {
        "colab": {
          "base_uri": "https://localhost:8080/"
        },
        "id": "_SfCSd-BZIan",
        "outputId": "84b80ab3-2617-4e51-b027-d375f2f9c9cb"
      },
      "execution_count": 19,
      "outputs": [
        {
          "output_type": "stream",
          "name": "stdout",
          "text": [
            "8/8 [==============================] - 1s 124ms/step\n",
            "              precision    recall  f1-score   support\n",
            "\n",
            "   with_mask       0.98      0.99      0.99       377\n",
            "without_mask       0.99      0.98      0.99       390\n",
            "\n",
            "    accuracy                           0.99       767\n",
            "   macro avg       0.99      0.99      0.99       767\n",
            "weighted avg       0.99      0.99      0.99       767\n",
            "\n"
          ]
        }
      ]
    },
    {
      "cell_type": "code",
      "source": [
        "#saving the generated model\n",
        "model.save(\"mask_detector.model\" , save_format= \"h5\")"
      ],
      "metadata": {
        "colab": {
          "base_uri": "https://localhost:8080/"
        },
        "id": "6QgQiQsxdw_0",
        "outputId": "789db7bc-f0f3-4b41-8551-c05e065f49ac"
      },
      "execution_count": 20,
      "outputs": [
        {
          "output_type": "stream",
          "name": "stderr",
          "text": [
            "/usr/local/lib/python3.10/dist-packages/keras/src/engine/training.py:3079: UserWarning: You are saving your model as an HDF5 file via `model.save()`. This file format is considered legacy. We recommend using instead the native Keras format, e.g. `model.save('my_model.keras')`.\n",
            "  saving_api.save_model(\n"
          ]
        }
      ]
    },
    {
      "cell_type": "code",
      "source": [
        "#plotting training loss and accuracy\n",
        "N = EPOCHS\n",
        "plt.style.use(\"ggplot\")\n"
      ],
      "metadata": {
        "id": "o57FIthaeHoA"
      },
      "execution_count": 21,
      "outputs": []
    },
    {
      "cell_type": "code",
      "source": [
        "plt.figure()\n"
      ],
      "metadata": {
        "colab": {
          "base_uri": "https://localhost:8080/",
          "height": 52
        },
        "id": "08yH4MKjea50",
        "outputId": "507d85c8-49fb-4944-a0bc-f42a97838f00"
      },
      "execution_count": 22,
      "outputs": [
        {
          "output_type": "execute_result",
          "data": {
            "text/plain": [
              "<Figure size 640x480 with 0 Axes>"
            ]
          },
          "metadata": {},
          "execution_count": 22
        },
        {
          "output_type": "display_data",
          "data": {
            "text/plain": [
              "<Figure size 640x480 with 0 Axes>"
            ]
          },
          "metadata": {}
        }
      ]
    },
    {
      "cell_type": "code",
      "source": [
        "plt.plot(np.arange(0,N), H.history[\"loss\"],label = \"train_loss\")\n",
        "plt.plot(np.arange(0,N), H.history[\"val_loss\"],label = \"val_loss\")\n",
        "plt.plot(np.arange(0,N), H.history[\"accuracy\"],label = \"train_acc\")\n",
        "plt.plot(np.arange(0,N), H.history[\"val_accuracy\"],label = \"val_acc\")\n",
        "plt.title(\"training loss and energy\")\n",
        "plt.xlabel(\"Epoch\")\n",
        "plt.ylabel(\"loss/accuracy\")\n",
        "#plt.legend(LOC = \"lower left\")\n",
        "plt.savefig(\"plot.png\")"
      ],
      "metadata": {
        "colab": {
          "base_uri": "https://localhost:8080/",
          "height": 477
        },
        "id": "S-UKivEoedSj",
        "outputId": "f7db9b70-5c24-4ed2-f735-4ac7b1e414cb"
      },
      "execution_count": 25,
      "outputs": [
        {
          "output_type": "display_data",
          "data": {
            "text/plain": [
              "<Figure size 640x480 with 1 Axes>"
            ],
            "image/png": "[encoded data removed]"
          },
          "metadata": {}
        }
      ]
    },
    {
      "cell_type": "code",
      "source": [],
      "metadata": {
        "id": "YnJbI1WUfTjW"
      },
      "execution_count": null,
      "outputs": []
    }
  ]
}