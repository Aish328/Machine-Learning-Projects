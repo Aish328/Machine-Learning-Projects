{
  "nbformat": 4,
  "nbformat_minor": 0,
  "metadata": {
    "colab": {
      "provenance": [],
      "gpuType": "T4"
    },
    "kernelspec": {
      "name": "python3",
      "display_name": "Python 3"
    },
    "language_info": {
      "name": "python"
    },
    "accelerator": "GPU"
  },
  "cells": [
    {
      "cell_type": "code",
      "execution_count": 1,
      "metadata": {
        "colab": {
          "base_uri": "https://localhost:8080/"
        },
        "id": "nLekJQm3-RAd",
        "outputId": "75e47113-57cb-48f4-e1a8-19be34f979f7"
      },
      "outputs": [
        {
          "output_type": "stream",
          "name": "stdout",
          "text": [
            "Colab only includes TensorFlow 2.x; %tensorflow_version has no effect.\n",
            "Tensorflow version 2.15.0\n"
          ]
        }
      ],
      "source": [
        "import numpy as np\n",
        "import os\n",
        "import PIL.Image\n",
        "import PIL.ImageFont\n",
        "import PIL.ImageDraw\n",
        "import tensorflow as tf\n",
        "import tensorflow_datasets as tfds\n",
        "try:\n",
        "  %tensorflow_version 2.x\n",
        "except Exception:\n",
        "  pass\n",
        "from matplotlib import pyplot as plt\n",
        "from typing import Optional\n",
        "\n",
        "print(\"Tensorflow version \"+ tf.__version__)"
      ]
    },
    {
      "cell_type": "markdown",
      "source": [
        "defining bounding boxes"
      ],
      "metadata": {
        "id": "WIez09Is_t8q"
      }
    },
    {
      "cell_type": "code",
      "source": [
        "im_width: int = 75\n",
        "im_height: int = 75\n",
        "use_normalized_coordinates: bool = True #normalising the yhe coordinates of the bounding box to 0 and 1\n",
        "'''his function takes an image represented as a numpy array, draws bounding boxes on it, and returns the modified image as a numpy array. .'''\n",
        "def draw_bounding_boxes_on_image_array(\n",
        "    image: np.ndarray,\n",
        "    boxes: np.ndarray, #A 2-dimensional numpy array of shape [N, 4], where each row contains the coordinates of a bounding box in the format (ymin, xmin, ymax, xmax).\n",
        "    color: list = [],\n",
        "    thickness: int = 1 ,\n",
        "    display_str_list: list=[],) -> np.ndarray:\n",
        "\n",
        "    image_pil: PIL.Image.Image = PIL.Image.fromarray(image)\n",
        "    rgbimg: PIL.Image.Image = PIL.Image.new(\"RGBA\", image_pil.size)\n",
        "    rgbimg.paste(image_pil)\n",
        "    draw_bounding_boxes_on_image(rgbimg, boxes , color , thickness, display_str_list)\n",
        "    return np.array(rgbimg)#returns the result as a numpy array.\n",
        "\n",
        "\n",
        "\n",
        "\n",
        "\n",
        "\n",
        "\n"
      ],
      "metadata": {
        "id": "1q4ygwf8_HwQ"
      },
      "execution_count": 2,
      "outputs": []
    },
    {
      "cell_type": "code",
      "source": [
        "from PIL import Image, ImageDraw\n"
      ],
      "metadata": {
        "id": "UgB3JrawB1xq"
      },
      "execution_count": 33,
      "outputs": []
    },
    {
      "cell_type": "code",
      "source": [
        "'''this function facilitates drawing multiple bounding boxes on a PIL image based on the input bounding box coordinates, with optional customization of colors, thickness, and display strings for each bounding box'''\n",
        "\n",
        "def draw_bounding_boxes_on_image(\n",
        "    image:PIL.Image.Image ,\n",
        "    boxes: np.ndarray ,\n",
        "    color: list = [] ,\n",
        "    thickness: int = 1,\n",
        "    display_str_list = []\n",
        ") -> None:\n",
        "    boxes_shape: tuple[int] = boxes.shape     #checking if shape of 'boxes' array is not empty\n",
        "    if not boxes_shape:\n",
        "      return\n",
        "    if len(boxes_shape) != 2 or boxes_shape[1] != 4:\n",
        "      raise ValueError('INput must be of size [N, 4]')\n",
        "    for i in range(boxes_shape[0]):\n",
        "      draw_bounding_box_on_image(\n",
        "          image,\n",
        "          boxes[i,1],\n",
        "          boxes[i,0],\n",
        "          boxes[i,3],\n",
        "          boxes[i,2],\n",
        "          color[i],\n",
        "          thickness ,\n",
        "          display_str_list[i]\n",
        "\n",
        "      )\n",
        "\n",
        "def draw_bounding_box_on_image(\n",
        "    image: PIL.Image.Image,\n",
        "    ymin: np.float32,\n",
        "    xmin: np.float32,\n",
        "    ymax: np.float32,\n",
        "    xmax: np.float32,\n",
        "    color: str = 'red',\n",
        "    thickness: int = 1,\n",
        "    display_str: Optional[str]=None,\n",
        "    use_normalized_coordinates: bool = True\n",
        ") -> None:\n",
        "    draw = ImageDraw.Draw(image)\n",
        "    im_width : int\n",
        "    im_height: int\n",
        "    im_width , im_height = image.size\n",
        "    if use_normalized_coordinates:\n",
        "      (left, right, top  , bottom ) = (\n",
        "          xmin*im_width,\n",
        "          xmax * im_width ,\n",
        "          ymin * im_height ,\n",
        "          ymax * im_height\n",
        "      )\n",
        "    else:\n",
        "      (left, right , top , bottom  ) = (xmin , xmax , ymin , ymax)\n",
        "    draw.line(\n",
        "        [\n",
        "            (left,top),\n",
        "            (left, bottom) ,\n",
        "            (right , bottom) ,\n",
        "            (right, top) ,\n",
        "            (left , top)\n",
        "        ],\n",
        "        width = thickness , fill = color\n",
        "    )\n",
        "#drawing bounding box using  .line() method moving along :\n",
        "              ''' (left,top),\n",
        "            (left, bottom) ,\n",
        "            (right , bottom) ,\n",
        "            (right, top) ,\n",
        "            (left , top)'''"
      ],
      "metadata": {
        "id": "NChuJEjvBaQc"
      },
      "execution_count": 34,
      "outputs": []
    },
    {
      "cell_type": "code",
      "source": [
        "\n"
      ],
      "metadata": {
        "id": "PCqrOzN9GKs6"
      },
      "execution_count": 3,
      "outputs": []
    },
    {
      "cell_type": "code",
      "source": [
        "#matplotlib configurations\n",
        "plt.rc('image' , cmap = 'gray')\n",
        "plt.rc('grid' , linewidth = 0)\n",
        "plt.rc('xtick', top = False , bottom = False , labelsize = 'large')\n",
        "plt.rc('ytick' , left = False , right = False  , labelsize = 'large')\n",
        "plt.rc('axes' , facecolor= 'F8F8F8' , titlesize = \"large\" , edgecolor = 'white')\n",
        "plt.rc('text' , color = 'a8151a')\n",
        "\n",
        "plt.rc('figure' , facecolor = 'F0F0F0')\n",
        "MATPLOTLIB_FONT_DIR :str = os.path.join(os.path.dirname(plt.__file__),\"mpl-data/fonts/ttf\")"
      ],
      "metadata": {
        "id": "d6QwoNZ51dqO"
      },
      "execution_count": 4,
      "outputs": []
    },
    {
      "cell_type": "markdown",
      "source": [
        "pulling batch of dataset"
      ],
      "metadata": {
        "id": "YiNpf0wPHMoD"
      }
    },
    {
      "cell_type": "code",
      "source": [
        "def dataset_to_numpy_util(\n",
        "    training_dataset: tf.data.Dataset,\n",
        "    validation_dataset: tf.data.Dataset,\n",
        "    N: int    #N: Integer representing the number of training digits to include in the returned arrays.\n",
        ") -> tuple[np.ndarray, ...]:\n",
        "    # get one batch from each: 10000 validation digits, N training digits\n",
        "    batch_train_ds: tf.data.Dataset = training_dataset.unbatch().batch(N)#unbatching the training_dataset and then batching it with size N.\n",
        "\n",
        "    # eager execution: loop through datasets normally\n",
        "    if tf.executing_eagerly():\n",
        "        for validation_digits, (\n",
        "            validation_labels, validation_bboxes\n",
        "        ) in validation_dataset:\n",
        "            validation_digits: np.ndarray = validation_digits.numpy()\n",
        "            validation_labels = validation_labels.numpy()\n",
        "            validation_bboxes: np.ndarray = validation_bboxes.numpy()\n",
        "            break\n",
        "        for training_digits, (\n",
        "            training_labels, training_bboxes                                    # loops through the batch_train_ds dataset to extract one batch of training digits along with their labels and bounding boxes. These values are converted to NumPy arrays using the numpy() method.\n",
        "                                                                                #The one-hot encoded labels are converted back to categorical labels using np.argmax() along the appropriate axis.\n",
        "        ) in batch_train_ds:\n",
        "            training_digits: np.ndarray = training_digits.numpy()\n",
        "            training_labels = training_labels.numpy()\n",
        "            training_bboxes: np.ndarray = training_bboxes.numpy()\n",
        "            break\n",
        "\n",
        "    # these were one-hot encoded in the dataset\n",
        "    validation_labels: np.ndarray = np.argmax(validation_labels, axis=1)\n",
        "    training_labels: np.ndarray = np.argmax(training_labels, axis=1)\n",
        "\n",
        "    return (training_digits,\n",
        "            training_labels,\n",
        "            training_bboxes,\n",
        "            validation_digits,\n",
        "            validation_labels,\n",
        "            validation_bboxes)\n"
      ],
      "metadata": {
        "id": "ObG079N3GwWf"
      },
      "execution_count": 16,
      "outputs": []
    },
    {
      "cell_type": "code",
      "source": [
        "def display_digits_with_boxes(\n",
        "    digits: np.ndarray,\n",
        "    predictions: np.ndarray,\n",
        "    labels: np.ndarray,\n",
        "    pred_bboxes: np.ndarray,\n",
        "    bboxes: np.ndarray,\n",
        "    iou: np.ndarray,\n",
        "    title: str\n",
        ") -> None:\n",
        "    n: int = 10\n",
        "    #Extracts the corresponding digits, predictions, labels, IoU values, and bounding boxes based on the selected indices.\n",
        "    indexes: np.ndarray = np.random.choice(len(predictions), size=n)\n",
        "    n_digits: np.ndarray = digits[indexes]\n",
        "    n_predictions: np.ndarray = predictions[indexes]\n",
        "    n_labels: np.ndarray = labels[indexes]\n",
        "\n",
        "    if len(iou) > 0:\n",
        "        n_iou: np.ndarray = iou[indexes]\n",
        "\n",
        "    if (len(pred_bboxes) > 0):\n",
        "        n_pred_bboxes: np.ndarray = pred_bboxes[indexes,:]\n",
        "\n",
        "    if (len(bboxes) > 0):\n",
        "        n_bboxes: np.ndarray = bboxes[indexes,:]\n",
        "\n",
        "\n",
        "    n_digits: np.ndarray = n_digits * 255.0#Rescales the digit images to the range [0, 255] and reshapes them to a proper size for display.\n",
        "    n_digits = n_digits.reshape(n, 75, 75)\n",
        "    fig: plt.Figure = plt.figure(figsize=(20, 4))\n",
        "    plt.title(title)\n",
        "    plt.yticks([])\n",
        "    plt.xticks([])\n",
        "\n",
        "    for i in range(10):\n",
        "        ax: plt.Axes = fig.add_subplot(1, 10, i+1)\n",
        "        bboxes_to_plot: list = []\n",
        "        if (len(pred_bboxes) > i):\n",
        "            bboxes_to_plot.append(n_pred_bboxes[i])\n",
        "\n",
        "        if (len(bboxes) > i):\n",
        "            bboxes_to_plot.append(n_bboxes[i])\n",
        "\n",
        "        img_to_draw = draw_bounding_boxes_on_image_array(\n",
        "            image=n_digits[i],\n",
        "            boxes=np.asarray(bboxes_to_plot),\n",
        "            color=['red', 'green'],\n",
        "            display_str_list=[\"true\", \"pred\"]\n",
        "        )\n",
        "        plt.xlabel(n_predictions[i])\n",
        "        plt.xticks([])\n",
        "        plt.yticks([])\n",
        "\n",
        "        if n_predictions[i] != n_labels[i]:#Adjusts the label color to red if the prediction doesn't match the true label.\n",
        "            ax.xaxis.label.set_color('red')\n",
        "\n",
        "\n",
        "\n",
        "        plt.imshow(img_to_draw)\n",
        "\n",
        "        if len(iou) > i :\n",
        "            color = \"black\"\n",
        "            if (n_iou[i][0] < iou_threshold):\n",
        "                color = \"red\"\n",
        "            ax.text(\n",
        "                0.2,\n",
        "                -0.3,\n",
        "                \"iou: %s\" %(n_iou[i][0]),\n",
        "                color=color,\n",
        "                transform=ax.transAxes\n",
        "            )\n"
      ],
      "metadata": {
        "id": "QpZG2-gjafH2"
      },
      "execution_count": 15,
      "outputs": []
    },
    {
      "cell_type": "code",
      "source": [
        "# utility to display training and validation curves\n",
        "def plot_metrics(metric_name: str, title: str, ylim: int=5):\n",
        "    plt.title(title)\n",
        "    plt.ylim(0,ylim)\n",
        "    plt.plot(history.history[metric_name], color='blue', label=metric_name)\n",
        "    plt.plot(\n",
        "        history.history[f'val_{metric_name}'],\n",
        "        color='green',\n",
        "        label=f'val_{metric_name}'\n",
        "    )\n"
      ],
      "metadata": {
        "id": "GaP2RecrNnAB"
      },
      "execution_count": 17,
      "outputs": []
    },
    {
      "cell_type": "markdown",
      "source": [
        "TPU or GPU detection\n",
        "Depending on the hardware available, you'll use different distribution strategies. For a review on distribution strategies, please check out the second course in this specialization \"Custom and Distributed Training with TensorFlow\", week 4, \"Distributed Training\".\n",
        "\n",
        "If the TPU is available, then you'll be using the TPU Strategy. Otherwise:\n",
        "If more than one GPU is available, then you'll use the Mirrored Strategy\n",
        "If one GPU is available or if just the CPU is available, you'll use the default strategy."
      ],
      "metadata": {
        "id": "D0XuE2dfO5Wo"
      }
    },
    {
      "cell_type": "markdown",
      "source": [],
      "metadata": {
        "id": "BAxCvkI9O4_b"
      }
    },
    {
      "cell_type": "code",
      "source": [
        "try:\n",
        "    Rslvr = tf.distribute.cluster_resolver.ClusterResolver\n",
        "    # TPU detection\n",
        "    tpu: Optional[Rslvr] = tf.distribute.cluster_resolver.TPUClusterResolver()\n",
        "except ValueError:\n",
        "    tpu = None\n",
        "    gpus: list = tf.config.experimental.list_logical_devices(\"GPU\")\n",
        "\n",
        "# Select appropriate distribution strategy\n",
        "if tpu:\n",
        "    tf.config.experimental_connect_to_cluster(tpu)\n",
        "    tf.tpu.experimental.initialize_tpu_system(tpu)\n",
        "    # Going back and forth between TPU and host is expensive. Better to run 128\n",
        "    # batches on the TPU before reporting back.\n",
        "    strategy: tf.distribute.Strategy = tf.distribute.TPUStrategy(tpu)\n",
        "    print('Running on TPU ', tpu.cluster_spec().as_dict()['worker'])\n",
        "elif len(gpus) > 1:\n",
        "    strategy: tf.distribute.Strategy = tf.distribute.MirroredStrategy(\n",
        "        [gpu.name for gpu in gpus]\n",
        "    )\n",
        "    print('Running on multiple GPUs ', [gpu.name for gpu in gpus])\n",
        "elif len(gpus) == 1:\n",
        "    # default strategy that works on CPU and single GPU\n",
        "    strategy = tf.distribute.get_strategy()\n",
        "    print('Running on single GPU ', gpus[0].name)\n",
        "else:\n",
        "    # default strategy that works on CPU and single GPU\n",
        "    strategy: tf.distribute.Strategy = tf.distribute.get_strategy()\n",
        "    print('Running on CPU')\n",
        "print(\"Number of accelerators: \", strategy.num_replicas_in_sync)"
      ],
      "metadata": {
        "colab": {
          "base_uri": "https://localhost:8080/"
        },
        "id": "HOZBXh-hOh-E",
        "outputId": "6d9e6b72-7746-4c7c-85a0-70de7499042c"
      },
      "execution_count": 8,
      "outputs": [
        {
          "output_type": "stream",
          "name": "stdout",
          "text": [
            "Running on single GPU  /device:GPU:0\n",
            "Number of accelerators:  1\n"
          ]
        }
      ]
    },
    {
      "cell_type": "code",
      "source": [
        "BATCH_SIZE : int = 64*strategy.num_replicas_in_sync"
      ],
      "metadata": {
        "id": "HUrysxucPA9O"
      },
      "execution_count": 9,
      "outputs": []
    },
    {
      "cell_type": "code",
      "source": [
        "def read_image_tfds(image: tf.Tensor, label: tf.Tensor) -> tuple[\n",
        "    tf.Tensor, tuple[tf.Tensor, list]\n",
        "]:\n",
        "    '''\n",
        "    Transforms each image in dataset by pasting it on a 75x75 canvas at random\n",
        "    locations.\n",
        "    '''\n",
        "    xmin: tf.Tensor = tf.random.uniform((), 0 , 48, dtype=tf.int32)\n",
        "    ymin: tf.Tensor = tf.random.uniform((), 0 , 48, dtype=tf.int32)\n",
        "    image = tf.reshape(image, (28,28,1,))\n",
        "    image = tf.image.pad_to_bounding_box(image, ymin, xmin, 75, 75)#Pads the image to a bounding box of size (75, 75)\n",
        "    # pads zeros around the image based on the randomly generated ymin and xmin coordinates\n",
        "    image = tf.cast(image, tf.float32)/255.0\n",
        "    xmin = tf.cast(xmin, tf.float32)\n",
        "    ymin = tf.cast(ymin, tf.float32)\n",
        "\n",
        "    xmax: tf.Tensor = tf.add(xmin, 28) / 75\n",
        "    ymax: tf.Tensor = tf.add(ymin, 28) / 75\n",
        "    xmin = tf.divide(xmin, 75)\n",
        "    ymin = tf.divide(ymin, 75)\n",
        "    return image, (tf.one_hot(label, 10), [xmin, ymin, xmax, ymax])\n",
        "\n",
        "def get_training_dataset() -> tf.data.Dataset:\n",
        "    '''\n",
        "    Loads and maps the training split of the dataset using the map function.\n",
        "    Note that we try to load the gcs version since TPU can only work with\n",
        "    datasets on Google Cloud Storage.\n",
        "    '''\n",
        "    with  strategy.scope():\n",
        "        dataset: tf.data.Dataset = tfds.load(\n",
        "            \"mnist\", split=\"train\", as_supervised=True, try_gcs=True\n",
        "        )\n",
        "        dataset = dataset.map(read_image_tfds, num_parallel_calls=16)\n",
        "        dataset = dataset.shuffle(5000, reshuffle_each_iteration=True)\n",
        "        dataset = dataset.repeat()\n",
        "        dataset = dataset.batch(BATCH_SIZE, drop_remainder=True)\n",
        "        # fetch next batches while training on the current one (-1: autotune\n",
        "        # prefetch buffer size)\n",
        "        dataset = dataset.prefetch(-1)\n",
        "    return dataset\n",
        "\n",
        "def get_validation_dataset() -> tf.data.Dataset:\n",
        "    '''\n",
        "    Loads and maps the validation split of the dataset using the map function.\n",
        "    Note that we try to load the gcs version since TPU can only work with\n",
        "    datasets on Google Cloud Storage.\n",
        "    '''\n",
        "    dataset: tf.data.Dataset = tfds.load(\n",
        "        \"mnist\", split=\"test\", as_supervised=True, try_gcs=True\n",
        "    )\n",
        "    dataset = dataset.map(read_image_tfds, num_parallel_calls=16)\n",
        "\n",
        "    # this small dataset can be entirely cached in RAM\n",
        "    dataset = dataset.cache()\n",
        "    # 10000 items in eval dataset, all in one batch\n",
        "    dataset = dataset.batch(10000, drop_remainder=True)\n",
        "    dataset = dataset.repeat() # Mandatory for Keras for now\n",
        "    return dataset\n",
        "\n",
        "# instantiate the datasets\n",
        "with strategy.scope():\n",
        "    training_dataset = get_training_dataset()\n",
        "    validation_dataset = get_validation_dataset()"
      ],
      "metadata": {
        "id": "2_Swp7sMPNPF"
      },
      "execution_count": 23,
      "outputs": []
    },
    {
      "cell_type": "code",
      "source": [
        "(training_digits,\n",
        " training_labels,\n",
        " training_bboxes,\n",
        " validation_digits,\n",
        " validation_labels,\n",
        " validation_bboxes) = dataset_to_numpy_util(\n",
        "      training_dataset, validation_dataset, 10\n",
        " )\n",
        "\n",
        "display_digits_with_boxes(\n",
        "    training_digits,\n",
        "    training_labels,\n",
        "    training_labels,\n",
        "    np.array([]),\n",
        "    training_bboxes,\n",
        "    np.array([]),\n",
        "    \"training digits and their labels\"\n",
        ")\n",
        "display_digits_with_boxes(\n",
        "    validation_digits,\n",
        "    validation_labels,\n",
        "    validation_labels,\n",
        "    np.array([]),\n",
        "    validation_bboxes,\n",
        "    np.array([]),\n",
        "    \"validation digits and their labels\"\n",
        ")"
      ],
      "metadata": {
        "colab": {
          "base_uri": "https://localhost:8080/",
          "height": 343
        },
        "id": "9rRrHLrMUlQm",
        "outputId": "f1ea1ab9-0f21-43c8-b438-80f45117cdf7"
      },
      "execution_count": 35,
      "outputs": [
        {
          "output_type": "display_data",
          "data": {
            "text/plain": [
              "<Figure size 2000x400 with 11 Axes>"
            ],
            "image/png": "[encoded data removed]"
          },
          "metadata": {}
        },
        {
          "output_type": "display_data",
          "data": {
            "text/plain": [
              "<Figure size 2000x400 with 11 Axes>"
            ],
            "image/png": "[encoded data removed]"
          },
          "metadata": {}
        }
      ]
    },
    {
      "cell_type": "code",
      "source": [
        "def feature_extractor(inputs: tf.Tensor) -> tf.Tensor:\n",
        "    '''\n",
        "    Feature extractor is the CNN that is made up of convolution and pooling\n",
        "    layers.\n",
        "    '''\n",
        "    x: tf.Tensor = tf.keras.layers.Conv2D(\n",
        "        16, activation='relu', kernel_size=3, input_shape=(75, 75, 1)\n",
        "    )(inputs)\n",
        "    x = tf.keras.layers.AveragePooling2D((2, 2))(x)\n",
        "\n",
        "    x = tf.keras.layers.Conv2D(32,kernel_size=3,activation='relu')(x)\n",
        "    x = tf.keras.layers.AveragePooling2D((2, 2))(x)\n",
        "\n",
        "    x = tf.keras.layers.Conv2D(64,kernel_size=3,activation='relu')(x)\n",
        "    x = tf.keras.layers.AveragePooling2D((2, 2))(x)\n",
        "    return x\n"
      ],
      "metadata": {
        "id": "GOUjTl-UU1f9"
      },
      "execution_count": 37,
      "outputs": []
    },
    {
      "cell_type": "code",
      "source": [
        "def dense_layers(inputs: tf.Tensor) -> tf.Tensor:\n",
        "    '''\n",
        "    dense_layers adds a flatten and dense layer. This will follow the feature\n",
        "    extraction layers\n",
        "    '''\n",
        "    x: tf.Tensor = tf.keras.layers.Flatten()(inputs)\n",
        "    x = tf.keras.layers.Dense(128, activation='relu')(x)\n",
        "    return x"
      ],
      "metadata": {
        "id": "72efeItbB_xH"
      },
      "execution_count": 38,
      "outputs": []
    },
    {
      "cell_type": "code",
      "source": [
        "def classifier(inputs: tf.Tensor) -> tf.Tensor:\n",
        "    '''\n",
        "    Classifier defines the classification output. This has a set of fully\n",
        "    connected layers and a softmax layer.\n",
        "    '''\n",
        "    classification_output: tf.Tensor = tf.keras.layers.Dense(\n",
        "        10, activation='softmax', name='classification'\n",
        "    )(inputs)\n",
        "    return classification_output"
      ],
      "metadata": {
        "id": "NtTXTyfaCEC8"
      },
      "execution_count": 39,
      "outputs": []
    },
    {
      "cell_type": "code",
      "source": [
        "def bounding_box_regression(inputs: tf.Tensor) -> tf.Tensor:\n",
        "    '''\n",
        "    This function defines the regression output for bounding box prediction.\n",
        "    Note that we have four outputs corresponding to (xmin, ymin, xmax, ymax)\n",
        "    '''\n",
        "    bounding_box_regression_output: tf.Tensor = tf.keras.layers.Dense(\n",
        "        units='4', name='bounding_box'\n",
        "    )(inputs)\n",
        "    return bounding_box_regression_output"
      ],
      "metadata": {
        "id": "u_HL2N6sCHXI"
      },
      "execution_count": 40,
      "outputs": []
    },
    {
      "cell_type": "markdown",
      "source": [
        "FINAL MODEL"
      ],
      "metadata": {
        "id": "VJB-Ut0qCMI1"
      }
    },
    {
      "cell_type": "code",
      "source": [
        "\n",
        "def final_model(inputs: tf.Tensor) -> tf.keras.Model:\n",
        "    feature_cnn: tf.Tensor = feature_extractor(inputs)\n",
        "    dense_output: tf.Tensor = dense_layers(feature_cnn)\n",
        "\n",
        "    '''\n",
        "    The model branches here.\n",
        "    The dense layer's output gets fed into two branches:\n",
        "    classification_output and bounding_box_output\n",
        "    '''\n",
        "    classification_output: tf.Tensor = classifier(dense_output)\n",
        "    bounding_box_output: tf.Tensor = bounding_box_regression(dense_output)\n",
        "\n",
        "    model: tf.keras.Model = tf.keras.Model(\n",
        "        inputs=inputs, outputs=[classification_output, bounding_box_output]\n",
        "    )\n",
        "\n",
        "    return model\n"
      ],
      "metadata": {
        "id": "nbZHJPJmCJFY"
      },
      "execution_count": 41,
      "outputs": []
    },
    {
      "cell_type": "code",
      "source": [
        "def define_and_compile_model(inputs: tf.Tensor) -> tf.keras.Model:\n",
        "    model: tf.keras.Model = final_model(inputs)\n",
        "\n",
        "    model.compile(\n",
        "        optimizer='adam',\n",
        "        loss = {\n",
        "            'classification' : 'categorical_crossentropy',\n",
        "            'bounding_box' : 'mse'\n",
        "        },\n",
        "        metrics = {\n",
        "            'classification' : 'accuracy',\n",
        "            'bounding_box' : 'mse'\n",
        "        }\n",
        "    )\n",
        "    return model"
      ],
      "metadata": {
        "id": "l-A1QwqSCOQy"
      },
      "execution_count": 42,
      "outputs": []
    },
    {
      "cell_type": "code",
      "source": [
        "\n",
        "\n",
        "with strategy.scope():\n",
        "    inputs: tf.keras.layers.Layer = tf.keras.layers.Input(shape=(75, 75, 1,))\n",
        "    model: tf.keras.Model = define_and_compile_model(inputs)\n",
        "\n",
        "# print model layers\n",
        "model.summary()"
      ],
      "metadata": {
        "colab": {
          "base_uri": "https://localhost:8080/"
        },
        "id": "RXGqS8k8CRCC",
        "outputId": "0d6cb61c-5b2e-487c-8eee-903c6fe4622c"
      },
      "execution_count": 43,
      "outputs": [
        {
          "output_type": "stream",
          "name": "stdout",
          "text": [
            "Model: \"model\"\n",
            "__________________________________________________________________________________________________\n",
            " Layer (type)                Output Shape                 Param #   Connected to                  \n",
            "==================================================================================================\n",
            " input_1 (InputLayer)        [(None, 75, 75, 1)]          0         []                            \n",
            "                                                                                                  \n",
            " conv2d (Conv2D)             (None, 73, 73, 16)           160       ['input_1[0][0]']             \n",
            "                                                                                                  \n",
            " average_pooling2d (Average  (None, 36, 36, 16)           0         ['conv2d[0][0]']              \n",
            " Pooling2D)                                                                                       \n",
            "                                                                                                  \n",
            " conv2d_1 (Conv2D)           (None, 34, 34, 32)           4640      ['average_pooling2d[0][0]']   \n",
            "                                                                                                  \n",
            " average_pooling2d_1 (Avera  (None, 17, 17, 32)           0         ['conv2d_1[0][0]']            \n",
            " gePooling2D)                                                                                     \n",
            "                                                                                                  \n",
            " conv2d_2 (Conv2D)           (None, 15, 15, 64)           18496     ['average_pooling2d_1[0][0]'] \n",
            "                                                                                                  \n",
            " average_pooling2d_2 (Avera  (None, 7, 7, 64)             0         ['conv2d_2[0][0]']            \n",
            " gePooling2D)                                                                                     \n",
            "                                                                                                  \n",
            " flatten (Flatten)           (None, 3136)                 0         ['average_pooling2d_2[0][0]'] \n",
            "                                                                                                  \n",
            " dense (Dense)               (None, 128)                  401536    ['flatten[0][0]']             \n",
            "                                                                                                  \n",
            " classification (Dense)      (None, 10)                   1290      ['dense[0][0]']               \n",
            "                                                                                                  \n",
            " bounding_box (Dense)        (None, 4)                    516       ['dense[0][0]']               \n",
            "                                                                                                  \n",
            "==================================================================================================\n",
            "Total params: 426638 (1.63 MB)\n",
            "Trainable params: 426638 (1.63 MB)\n",
            "Non-trainable params: 0 (0.00 Byte)\n",
            "__________________________________________________________________________________________________\n"
          ]
        }
      ]
    },
    {
      "cell_type": "code",
      "source": [
        "EPOCHS: int = 10 # 45\n",
        "steps_per_epoch: int = 60000//BATCH_SIZE  # 60,000 items in this dataset\n",
        "validation_steps: int = 1\n",
        "\n",
        "history: tf.keras.callbacks.History = model.fit(\n",
        "    training_dataset,\n",
        "    steps_per_epoch=steps_per_epoch,\n",
        "    validation_data=validation_dataset,\n",
        "    validation_steps=validation_steps,\n",
        "    epochs=EPOCHS\n",
        ")\n",
        "\n",
        "(loss,\n",
        " classification_loss,\n",
        " bounding_box_loss,\n",
        " classification_accuracy,\n",
        " bounding_box_mse) = model.evaluate(validation_dataset, steps=1)\n",
        "print(\"Validation accuracy: \", classification_accuracy)"
      ],
      "metadata": {
        "colab": {
          "base_uri": "https://localhost:8080/"
        },
        "id": "31GyF1HyCSod",
        "outputId": "944942a0-88d8-456f-b0f1-d45dce86efe2"
      },
      "execution_count": 44,
      "outputs": [
        {
          "output_type": "stream",
          "name": "stdout",
          "text": [
            "Epoch 1/10\n",
            "937/937 [==============================] - 37s 31ms/step - loss: 0.9661 - classification_loss: 0.9500 - bounding_box_loss: 0.0160 - classification_accuracy: 0.6688 - bounding_box_mse: 0.0160 - val_loss: 0.3012 - val_classification_loss: 0.2926 - val_bounding_box_loss: 0.0086 - val_classification_accuracy: 0.9140 - val_bounding_box_mse: 0.0086\n",
            "Epoch 2/10\n",
            "937/937 [==============================] - 16s 17ms/step - loss: 0.2607 - classification_loss: 0.2544 - bounding_box_loss: 0.0063 - classification_accuracy: 0.9231 - bounding_box_mse: 0.0063 - val_loss: 0.1809 - val_classification_loss: 0.1767 - val_bounding_box_loss: 0.0042 - val_classification_accuracy: 0.9459 - val_bounding_box_mse: 0.0042\n",
            "Epoch 3/10\n",
            "937/937 [==============================] - 11s 11ms/step - loss: 0.1931 - classification_loss: 0.1892 - bounding_box_loss: 0.0039 - classification_accuracy: 0.9429 - bounding_box_mse: 0.0039 - val_loss: 0.1543 - val_classification_loss: 0.1508 - val_bounding_box_loss: 0.0035 - val_classification_accuracy: 0.9530 - val_bounding_box_mse: 0.0035\n",
            "Epoch 4/10\n",
            "937/937 [==============================] - 10s 11ms/step - loss: 0.1483 - classification_loss: 0.1457 - bounding_box_loss: 0.0027 - classification_accuracy: 0.9559 - bounding_box_mse: 0.0027 - val_loss: 0.1064 - val_classification_loss: 0.1043 - val_bounding_box_loss: 0.0021 - val_classification_accuracy: 0.9671 - val_bounding_box_mse: 0.0021\n",
            "Epoch 5/10\n",
            "937/937 [==============================] - 11s 11ms/step - loss: 0.1262 - classification_loss: 0.1241 - bounding_box_loss: 0.0021 - classification_accuracy: 0.9615 - bounding_box_mse: 0.0021 - val_loss: 0.1534 - val_classification_loss: 0.1510 - val_bounding_box_loss: 0.0024 - val_classification_accuracy: 0.9520 - val_bounding_box_mse: 0.0024\n",
            "Epoch 6/10\n",
            "937/937 [==============================] - 11s 12ms/step - loss: 0.1074 - classification_loss: 0.1057 - bounding_box_loss: 0.0017 - classification_accuracy: 0.9680 - bounding_box_mse: 0.0017 - val_loss: 0.0919 - val_classification_loss: 0.0904 - val_bounding_box_loss: 0.0014 - val_classification_accuracy: 0.9710 - val_bounding_box_mse: 0.0014\n",
            "Epoch 7/10\n",
            "937/937 [==============================] - 12s 12ms/step - loss: 0.0941 - classification_loss: 0.0926 - bounding_box_loss: 0.0014 - classification_accuracy: 0.9718 - bounding_box_mse: 0.0014 - val_loss: 0.1052 - val_classification_loss: 0.1039 - val_bounding_box_loss: 0.0013 - val_classification_accuracy: 0.9662 - val_bounding_box_mse: 0.0013\n",
            "Epoch 8/10\n",
            "937/937 [==============================] - 11s 12ms/step - loss: 0.0857 - classification_loss: 0.0843 - bounding_box_loss: 0.0013 - classification_accuracy: 0.9739 - bounding_box_mse: 0.0013 - val_loss: 0.0632 - val_classification_loss: 0.0619 - val_bounding_box_loss: 0.0012 - val_classification_accuracy: 0.9818 - val_bounding_box_mse: 0.0012\n",
            "Epoch 9/10\n",
            "937/937 [==============================] - 11s 11ms/step - loss: 0.0818 - classification_loss: 0.0806 - bounding_box_loss: 0.0012 - classification_accuracy: 0.9751 - bounding_box_mse: 0.0012 - val_loss: 0.0816 - val_classification_loss: 0.0804 - val_bounding_box_loss: 0.0011 - val_classification_accuracy: 0.9739 - val_bounding_box_mse: 0.0011\n",
            "Epoch 10/10\n",
            "937/937 [==============================] - 11s 11ms/step - loss: 0.0704 - classification_loss: 0.0692 - bounding_box_loss: 0.0012 - classification_accuracy: 0.9776 - bounding_box_mse: 0.0012 - val_loss: 0.0763 - val_classification_loss: 0.0750 - val_bounding_box_loss: 0.0013 - val_classification_accuracy: 0.9772 - val_bounding_box_mse: 0.0013\n",
            "1/1 [==============================] - 0s 347ms/step - loss: 0.0763 - classification_loss: 0.0750 - bounding_box_loss: 0.0013 - classification_accuracy: 0.9772 - bounding_box_mse: 0.0013\n",
            "Validation accuracy:  0.9771999716758728\n"
          ]
        }
      ]
    },
    {
      "cell_type": "code",
      "source": [
        "plot_metrics(\"classification_loss\", \"Classification Loss\")\n",
        "plot_metrics(\"bounding_box_loss\", \"Bounding Box Loss\")"
      ],
      "metadata": {
        "colab": {
          "base_uri": "https://localhost:8080/",
          "height": 456
        },
        "id": "mdhoOfRZCW28",
        "outputId": "ef2f2532-262f-43af-cfaf-5e968737e262"
      },
      "execution_count": 45,
      "outputs": [
        {
          "output_type": "display_data",
          "data": {
            "text/plain": [
              "<Figure size 640x480 with 1 Axes>"
            ],
            "image/png": "[encoded data removed]"
          },
          "metadata": {}
        }
      ]
    },
    {
      "cell_type": "code",
      "source": [
        "def intersection_over_union(pred_box: np.ndarray, true_box: np.ndarray):\n",
        "    xmin_pred: np.ndarray\n",
        "    ymin_pred: np.ndarray\n",
        "    xmax_pred: np.ndarray\n",
        "    ymax_pred: np.ndarray\n",
        "    xmin_true: np.ndarray\n",
        "    ymin_true: np.ndarray\n",
        "    xmax_true: np.ndarray\n",
        "    ymax_true: np.ndarray\n",
        "    xmin_pred, ymin_pred, xmax_pred, ymax_pred =  np.split(pred_box, 4, axis=1)\n",
        "    xmin_true, ymin_true, xmax_true, ymax_true = np.split(true_box, 4, axis=1)\n",
        "\n",
        "    smoothing_factor: float = 1e-10\n",
        "\n",
        "    xmin_overlap: np.ndarray = np.maximum(xmin_pred, xmin_true)\n",
        "    xmax_overlap: np.ndarray = np.minimum(xmax_pred, xmax_true)\n",
        "    ymin_overlap: np.ndarray = np.maximum(ymin_pred, ymin_true)\n",
        "    ymax_overlap: np.ndarray = np.minimum(ymax_pred, ymax_true)\n",
        "\n",
        "    pred_box_area: np.ndarray = (xmax_pred-xmin_pred) * (ymax_pred-ymin_pred)\n",
        "    true_box_area: np.ndarray = (xmax_true-xmin_true) * (ymax_true-ymin_true)\n",
        "\n",
        "    overlap_area: np.ndarray = (np.maximum((xmax_overlap-xmin_overlap), 0)  *\n",
        "                                np.maximum((ymax_overlap-ymin_overlap), 0))\n",
        "    union_area: np.ndarray = (pred_box_area+true_box_area) - overlap_area\n",
        "\n",
        "    iou: np.ndarray = ((overlap_area+smoothing_factor) /\n",
        "                       (union_area+smoothing_factor))\n",
        "\n",
        "    return iou"
      ],
      "metadata": {
        "id": "i1CVJqGICcjP"
      },
      "execution_count": 46,
      "outputs": []
    },
    {
      "cell_type": "code",
      "source": [
        "# recognize validation digits\n",
        "predictions: list = model.predict(validation_digits, batch_size=64)\n",
        "predicted_labels: np.ndarray = np.argmax(predictions[0], axis=1)\n",
        "\n",
        "predicted_bboxes: np.ndarray = predictions[1]\n",
        "\n",
        "iou: np.ndarray = intersection_over_union(predicted_bboxes, validation_bboxes)\n",
        "\n",
        "iou_threshold: float = 0.6\n",
        "\n",
        "g_prd: int = (iou >= iou_threshold).sum()\n",
        "l_prd: int = (iou < iou_threshold).sum()\n",
        "print(f\"Number of predictions where iou > threshold({iou_threshold}): {g_prd}\")\n",
        "print(f\"Number of predictions where iou < threshold({iou_threshold}): {l_prd}\")\n",
        "\n",
        "\n",
        "display_digits_with_boxes(\n",
        "    validation_digits,\n",
        "    predicted_labels,\n",
        "    validation_labels,\n",
        "    predicted_bboxes,\n",
        "    validation_bboxes,\n",
        "    iou,\n",
        "    \"True and Predicted values\"\n",
        ")"
      ],
      "metadata": {
        "colab": {
          "base_uri": "https://localhost:8080/",
          "height": 231
        },
        "id": "cUMUBdc0Ce29",
        "outputId": "d4252fce-23a2-417a-b92c-c80858e65eba"
      },
      "execution_count": 47,
      "outputs": [
        {
          "output_type": "stream",
          "name": "stdout",
          "text": [
            "157/157 [==============================] - 1s 3ms/step\n",
            "Number of predictions where iou > threshold(0.6): 8966\n",
            "Number of predictions where iou < threshold(0.6): 1034\n"
          ]
        },
        {
          "output_type": "display_data",
          "data": {
            "text/plain": [
              "<Figure size 2000x400 with 11 Axes>"
            ],
            "image/png": "[encoded data removed]"
          },
          "metadata": {}
        }
      ]
    },
    {
      "cell_type": "code",
      "source": [],
      "metadata": {
        "id": "MvcpICFXChbF"
      },
      "execution_count": null,
      "outputs": []
    }
  ]
}