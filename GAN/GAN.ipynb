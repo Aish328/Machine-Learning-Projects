{
  "nbformat": 4,
  "nbformat_minor": 0,
  "metadata": {
    "colab": {
      "provenance": [],
      "gpuType": "T4"
    },
    "kernelspec": {
      "name": "python3",
      "display_name": "Python 3"
    },
    "language_info": {
      "name": "python"
    },
    "accelerator": "GPU"
  },
  "cells": [
    {
      "cell_type": "code",
      "execution_count": 159,
      "metadata": {
        "colab": {
          "base_uri": "https://localhost:8080/"
        },
        "id": "2KzOOXNJGRz1",
        "outputId": "5f82239f-b0f5-4a12-c66d-b00c024b669c"
      },
      "outputs": [
        {
          "output_type": "stream",
          "name": "stdout",
          "text": [
            "Requirement already satisfied: tensorflow in /usr/local/lib/python3.10/dist-packages (2.15.0)\n",
            "Collecting tensorflow-gpu\n",
            "  Using cached tensorflow-gpu-2.12.0.tar.gz (2.6 kB)\n",
            "  \u001b[1;31merror\u001b[0m: \u001b[1msubprocess-exited-with-error\u001b[0m\n",
            "  \n",
            "  \u001b[31m×\u001b[0m \u001b[32mpython setup.py egg_info\u001b[0m did not run successfully.\n",
            "  \u001b[31m│\u001b[0m exit code: \u001b[1;36m1\u001b[0m\n",
            "  \u001b[31m╰─>\u001b[0m See above for output.\n",
            "  \n",
            "  \u001b[1;35mnote\u001b[0m: This error originates from a subprocess, and is likely not a problem with pip.\n",
            "  Preparing metadata (setup.py) ... \u001b[?25l\u001b[?25herror\n",
            "\u001b[1;31merror\u001b[0m: \u001b[1mmetadata-generation-failed\u001b[0m\n",
            "\n",
            "\u001b[31m×\u001b[0m Encountered error while generating package metadata.\n",
            "\u001b[31m╰─>\u001b[0m See above for output.\n",
            "\n",
            "\u001b[1;35mnote\u001b[0m: This is an issue with the package mentioned above, not pip.\n",
            "\u001b[1;36mhint\u001b[0m: See above for details.\n"
          ]
        }
      ],
      "source": [
        "#importing dependencies and Data\n",
        "!pip3 install tensorflow tensorflow-gpu matplotlib tensorflow-datasets ipywidgets"
      ]
    },
    {
      "cell_type": "code",
      "source": [
        "import tensorflow as tf\n",
        "gpus = tf.config.experimental.list_physical_devices('GPU')\n",
        "for gpu in gpus:\n",
        "  tf.config.experimental.set_memory_growth(gpu , True)"
      ],
      "metadata": {
        "id": "Lq31yDZVG11H"
      },
      "execution_count": 160,
      "outputs": []
    },
    {
      "cell_type": "code",
      "source": [
        "# for gpu in gpus:\n",
        "#   print(gpu)\n"
      ],
      "metadata": {
        "id": "-WU5YjEGH3pl"
      },
      "execution_count": 161,
      "outputs": []
    },
    {
      "cell_type": "code",
      "source": [
        "import tensorflow_datasets as tfds\n",
        "from matplotlib  import  pyplot as plt\n"
      ],
      "metadata": {
        "id": "pbEdyhJMH6cr"
      },
      "execution_count": 162,
      "outputs": []
    },
    {
      "cell_type": "code",
      "source": [
        "#downloading and importing out datasets using tensorflow dataset api to being in the data source\n",
        "\n",
        "ds = tfds.load('fashion_mnist', split = 'train')"
      ],
      "metadata": {
        "id": "CLMavK6KI3lT"
      },
      "execution_count": 163,
      "outputs": []
    },
    {
      "cell_type": "code",
      "source": [
        "ds.as_numpy_iterator().next()['label']"
      ],
      "metadata": {
        "colab": {
          "base_uri": "https://localhost:8080/"
        },
        "id": "6PMq2EbtJUwx",
        "outputId": "50f0c704-083f-464b-92ee-a880661d35c0"
      },
      "execution_count": 164,
      "outputs": [
        {
          "output_type": "execute_result",
          "data": {
            "text/plain": [
              "2"
            ]
          },
          "metadata": {},
          "execution_count": 164
        }
      ]
    },
    {
      "cell_type": "code",
      "source": [
        "#visualising datasets and building a pipeline\n",
        "import numpy as np\n",
        "import pandas as pd\n"
      ],
      "metadata": {
        "id": "P9EabibGJpsB"
      },
      "execution_count": 165,
      "outputs": []
    },
    {
      "cell_type": "code",
      "source": [
        "dataIterator = ds.as_numpy_iterator()#setting up an iterator  to call a  new batch of images from dataset out of the pipeline each time its  called\n"
      ],
      "metadata": {
        "id": "4EmF1hduKfmF"
      },
      "execution_count": 166,
      "outputs": []
    },
    {
      "cell_type": "code",
      "source": [
        "dataIterator.next()['image'].shape"
      ],
      "metadata": {
        "colab": {
          "base_uri": "https://localhost:8080/"
        },
        "id": "3ouH5aYeKiV5",
        "outputId": "0035f3a0-df2c-4525-dd1c-107dc3d02fee"
      },
      "execution_count": 167,
      "outputs": [
        {
          "output_type": "execute_result",
          "data": {
            "text/plain": [
              "(28, 28, 1)"
            ]
          },
          "metadata": {},
          "execution_count": 167
        }
      ]
    },
    {
      "cell_type": "code",
      "source": [
        "np.squeeze(dataIterator.next()['image']).shape\n"
      ],
      "metadata": {
        "colab": {
          "base_uri": "https://localhost:8080/"
        },
        "id": "tcFp0yDfM1bh",
        "outputId": "e2663d21-17f3-475b-e543-04d16afc0cb3"
      },
      "execution_count": 168,
      "outputs": [
        {
          "output_type": "execute_result",
          "data": {
            "text/plain": [
              "(28, 28)"
            ]
          },
          "metadata": {},
          "execution_count": 168
        }
      ]
    },
    {
      "cell_type": "code",
      "source": [
        "#creating subplots\n",
        "fig  , ax = plt.subplots(ncols = 4 ,  figsize = (20,20))#setting up subplot format\n",
        "#loop 4 times and get images usiing dataIterator\n",
        "for idx in range(4):\n",
        "  sample = dataIterator.next()\n",
        "  ax[idx].imshow(np.squeeze(sample['image'])) #ax: subplot\n",
        "  ax[idx].title.set_text(sample['label'])"
      ],
      "metadata": {
        "colab": {
          "base_uri": "https://localhost:8080/",
          "height": 202
        },
        "id": "s9Os1KUCK68d",
        "outputId": "418253d6-68bc-4613-93fb-cab5924d39fb"
      },
      "execution_count": 169,
      "outputs": [
        {
          "output_type": "display_data",
          "data": {
            "text/plain": [
              "<Figure size 2000x2000 with 4 Axes>"
            ],
            "image/png": "[encoded data removed]"
          },
          "metadata": {}
        }
      ]
    },
    {
      "cell_type": "code",
      "source": [
        "#data processing(scaling)\n",
        "def scale_images(data):\n",
        "  image = data['image']#extracting image only\n",
        "  return image/255"
      ],
      "metadata": {
        "id": "NtpTpc1TL4t0"
      },
      "execution_count": 170,
      "outputs": []
    },
    {
      "cell_type": "code",
      "source": [
        "#STEPS WE  DO TO  BUILD A DATA PIPELNE FOR TENSORFLOW\n",
        "# '''MCSBP:\n",
        "# map\n",
        "# cache\n",
        "# shuffle\n",
        "# batch\n",
        "# prefetch'''"
      ],
      "metadata": {
        "id": "Yw4Ihk75puQB"
      },
      "execution_count": 171,
      "outputs": []
    },
    {
      "cell_type": "code",
      "source": [
        "ds = tfds.load('fashion_mnist', split = 'train')\n",
        "#running the dataset through thr scale_images preprocessinf step\n",
        "ds = ds.map(scale_images)\n",
        "ds = ds.cache()\n",
        "ds = ds.shuffle(60000)\n",
        "#batch into 128 images per sample\n",
        "ds = ds.batch(128)\n",
        "#reduces the likelihoof of bottlenecking\n",
        "ds = ds.prefetch(64)\n"
      ],
      "metadata": {
        "id": "fTTfbGyfqkct"
      },
      "execution_count": 172,
      "outputs": []
    },
    {
      "cell_type": "markdown",
      "source": [
        "BUILDING THE NEURAL NETWORK"
      ],
      "metadata": {
        "id": "OLiNa-fC53Iu"
      }
    },
    {
      "cell_type": "code",
      "source": [
        "#importing components\n",
        "from tensorflow.keras.models import Sequential\n",
        "from  tensorflow.keras.layers import Conv2D , Dense , Flatten , Reshape , LeakyReLU , Dropout , UpSampling2D"
      ],
      "metadata": {
        "id": "m3c3y5M_rUBT"
      },
      "execution_count": 173,
      "outputs": []
    },
    {
      "cell_type": "code",
      "source": [
        "def build_generator():\n",
        "  model = Sequential()\n",
        "  #takes in random values and reshapes it to 7x7x128\n",
        "  #beginning of generated image\n",
        "  model.add(Dense(7*7*128 , input_dim = 128))\n",
        "  model.add(LeakyReLU(0.2))#activation fxn\n",
        "  model.add(Reshape((7,7,128)))\n",
        "\n",
        "  #upsampling box\n",
        "  model.add(UpSampling2D())\n",
        "  model.add(Conv2D(128 , 5 , padding = 'same'))\n",
        "  model.add(LeakyReLU(0.2))\n",
        "\n",
        "  #upsampling blocke 2\n",
        "  model.add(UpSampling2D())\n",
        "  model.add(Conv2D(128 , 5 , padding = 'same'))\n",
        "  model.add(LeakyReLU(0.2))\n",
        "\n",
        "  #convolutional block\n",
        "  model.add(Conv2D(128, 4, padding = 'same'))\n",
        "  model.add(LeakyReLU(0.2))\n",
        "\n",
        "#convolutional block 2\n",
        "  model.add(Conv2D(128, 4, padding = 'same'))\n",
        "  model.add(LeakyReLU(0.2))\n",
        "\n",
        "  #final layere\n",
        "  model.add(Conv2D(1,4,padding = 'same', activation = 'sigmoid'))\n",
        "\n",
        "  return model"
      ],
      "metadata": {
        "id": "wiEB1pHi6fxq"
      },
      "execution_count": 174,
      "outputs": []
    },
    {
      "cell_type": "code",
      "source": [
        "generator = build_generator()\n",
        "generator.summary()"
      ],
      "metadata": {
        "colab": {
          "base_uri": "https://localhost:8080/"
        },
        "id": "hKlje9TX7cXv",
        "outputId": "0e180310-4fe6-4b5f-b659-f5f08ad26664"
      },
      "execution_count": 175,
      "outputs": [
        {
          "output_type": "stream",
          "name": "stdout",
          "text": [
            "Model: \"sequential_9\"\n",
            "_________________________________________________________________\n",
            " Layer (type)                Output Shape              Param #   \n",
            "=================================================================\n",
            " dense_9 (Dense)             (None, 6272)              809088    \n",
            "                                                                 \n",
            " leaky_re_lu_41 (LeakyReLU)  (None, 6272)              0         \n",
            "                                                                 \n",
            " reshape_5 (Reshape)         (None, 7, 7, 128)         0         \n",
            "                                                                 \n",
            " up_sampling2d_10 (UpSampli  (None, 14, 14, 128)       0         \n",
            " ng2D)                                                           \n",
            "                                                                 \n",
            " conv2d_41 (Conv2D)          (None, 14, 14, 128)       409728    \n",
            "                                                                 \n",
            " leaky_re_lu_42 (LeakyReLU)  (None, 14, 14, 128)       0         \n",
            "                                                                 \n",
            " up_sampling2d_11 (UpSampli  (None, 28, 28, 128)       0         \n",
            " ng2D)                                                           \n",
            "                                                                 \n",
            " conv2d_42 (Conv2D)          (None, 28, 28, 128)       409728    \n",
            "                                                                 \n",
            " leaky_re_lu_43 (LeakyReLU)  (None, 28, 28, 128)       0         \n",
            "                                                                 \n",
            " conv2d_43 (Conv2D)          (None, 28, 28, 128)       262272    \n",
            "                                                                 \n",
            " leaky_re_lu_44 (LeakyReLU)  (None, 28, 28, 128)       0         \n",
            "                                                                 \n",
            " conv2d_44 (Conv2D)          (None, 28, 28, 128)       262272    \n",
            "                                                                 \n",
            " leaky_re_lu_45 (LeakyReLU)  (None, 28, 28, 128)       0         \n",
            "                                                                 \n",
            " conv2d_45 (Conv2D)          (None, 28, 28, 1)         2049      \n",
            "                                                                 \n",
            "=================================================================\n",
            "Total params: 2155137 (8.22 MB)\n",
            "Trainable params: 2155137 (8.22 MB)\n",
            "Non-trainable params: 0 (0.00 Byte)\n",
            "_________________________________________________________________\n"
          ]
        }
      ]
    },
    {
      "cell_type": "code",
      "source": [
        "img = generator.predict(np.random.randn(4,128,1)) # 4 no. of images and 128 number of random values\n",
        "img.shape"
      ],
      "metadata": {
        "colab": {
          "base_uri": "https://localhost:8080/"
        },
        "id": "LIA2hy_GIbR1",
        "outputId": "0c04ce9a-d67f-4082-d5b9-5f9486913088"
      },
      "execution_count": 176,
      "outputs": [
        {
          "output_type": "stream",
          "name": "stdout",
          "text": [
            "1/1 [==============================] - 0s 206ms/step\n"
          ]
        },
        {
          "output_type": "execute_result",
          "data": {
            "text/plain": [
              "(4, 28, 28, 1)"
            ]
          },
          "metadata": {},
          "execution_count": 176
        }
      ]
    },
    {
      "cell_type": "code",
      "source": [
        "#creating subplots\n",
        "# fig  , ax = plt.subplots(ncols = 4 ,  figsize = (20,20))#setting up subplot format\n",
        "# #loop 4 times and get images usiing dataIterator\n",
        "# for idx , img in enumerate(img):\n",
        "#   img = np.squeeze(img)\n",
        "#   #img = img.reshape((28, 28))\n",
        "#   print(img.shape)\n",
        "\n",
        "#   ax[idx].imshow(img) #ax: subplot\n",
        "#   ax[idx].title.set_text(idx)"
      ],
      "metadata": {
        "id": "VbppFqu1JmNC"
      },
      "execution_count": 177,
      "outputs": []
    },
    {
      "cell_type": "code",
      "source": [
        "#building discriminator\n",
        "def build_discriminator():\n",
        "  model = Sequential()\n",
        "# first conv block\n",
        "  model.add(Conv2D(32,5,input_shape= (28,28,1))) #input shape = output shape of the generator\n",
        "  model.add(LeakyReLU(0.2))\n",
        "  model.add(Dropout(0.4))\n",
        "\n",
        "  #second block\n",
        "  model.add(Conv2D(64,5))\n",
        "  model.add(LeakyReLU(0.2))\n",
        "  model.add(Dropout(0.4))\n",
        "\n",
        "  model.add(Conv2D(128,5))\n",
        "  model.add(LeakyReLU(0.2))\n",
        "  model.add(Dropout(0.4))\n",
        "\n",
        "  model.add(Conv2D(256,5))\n",
        "  model.add(LeakyReLU(0.2))\n",
        "  model.add(Dropout(0.4))\n",
        "\n",
        "  #flatten then pass through dense layer\n",
        "  model.add(Flatten())\n",
        "  model.add(Dropout(0.4))\n",
        "  model.add(Dense(1 , activation = 'sigmoid'))\n",
        "\n",
        "\n",
        "  return model"
      ],
      "metadata": {
        "id": "e-TrZRL0KIAC"
      },
      "execution_count": 178,
      "outputs": []
    },
    {
      "cell_type": "code",
      "source": [
        "discriminator = build_discriminator()\n",
        "discriminator.summary()"
      ],
      "metadata": {
        "colab": {
          "base_uri": "https://localhost:8080/"
        },
        "id": "moFGL5ToqKEJ",
        "outputId": "bc32c182-606e-4446-c088-aa943e2f7f12"
      },
      "execution_count": 179,
      "outputs": [
        {
          "output_type": "stream",
          "name": "stdout",
          "text": [
            "Model: \"sequential_10\"\n",
            "_________________________________________________________________\n",
            " Layer (type)                Output Shape              Param #   \n",
            "=================================================================\n",
            " conv2d_46 (Conv2D)          (None, 24, 24, 32)        832       \n",
            "                                                                 \n",
            " leaky_re_lu_46 (LeakyReLU)  (None, 24, 24, 32)        0         \n",
            "                                                                 \n",
            " dropout_20 (Dropout)        (None, 24, 24, 32)        0         \n",
            "                                                                 \n",
            " conv2d_47 (Conv2D)          (None, 20, 20, 64)        51264     \n",
            "                                                                 \n",
            " leaky_re_lu_47 (LeakyReLU)  (None, 20, 20, 64)        0         \n",
            "                                                                 \n",
            " dropout_21 (Dropout)        (None, 20, 20, 64)        0         \n",
            "                                                                 \n",
            " conv2d_48 (Conv2D)          (None, 16, 16, 128)       204928    \n",
            "                                                                 \n",
            " leaky_re_lu_48 (LeakyReLU)  (None, 16, 16, 128)       0         \n",
            "                                                                 \n",
            " dropout_22 (Dropout)        (None, 16, 16, 128)       0         \n",
            "                                                                 \n",
            " conv2d_49 (Conv2D)          (None, 12, 12, 256)       819456    \n",
            "                                                                 \n",
            " leaky_re_lu_49 (LeakyReLU)  (None, 12, 12, 256)       0         \n",
            "                                                                 \n",
            " dropout_23 (Dropout)        (None, 12, 12, 256)       0         \n",
            "                                                                 \n",
            " flatten_4 (Flatten)         (None, 36864)             0         \n",
            "                                                                 \n",
            " dropout_24 (Dropout)        (None, 36864)             0         \n",
            "                                                                 \n",
            " dense_10 (Dense)            (None, 1)                 36865     \n",
            "                                                                 \n",
            "=================================================================\n",
            "Total params: 1113345 (4.25 MB)\n",
            "Trainable params: 1113345 (4.25 MB)\n",
            "Non-trainable params: 0 (0.00 Byte)\n",
            "_________________________________________________________________\n"
          ]
        }
      ]
    },
    {
      "cell_type": "code",
      "source": [
        "\n",
        "img.shape"
      ],
      "metadata": {
        "colab": {
          "base_uri": "https://localhost:8080/"
        },
        "id": "1VUGXLK-s2GT",
        "outputId": "0470ffd4-c4d3-4d4c-9329-bcb776ceee5a"
      },
      "execution_count": 180,
      "outputs": [
        {
          "output_type": "execute_result",
          "data": {
            "text/plain": [
              "(4, 28, 28, 1)"
            ]
          },
          "metadata": {},
          "execution_count": 180
        }
      ]
    },
    {
      "cell_type": "code",
      "source": [
        "discriminator.predict(img)"
      ],
      "metadata": {
        "colab": {
          "base_uri": "https://localhost:8080/"
        },
        "id": "8DdwhTrNsbh5",
        "outputId": "e3bb2196-8591-406a-d8b3-18c4df5add28"
      },
      "execution_count": 181,
      "outputs": [
        {
          "output_type": "stream",
          "name": "stdout",
          "text": [
            "1/1 [==============================] - 0s 144ms/step\n"
          ]
        },
        {
          "output_type": "execute_result",
          "data": {
            "text/plain": [
              "array([[0.50625974],\n",
              "       [0.5064068 ],\n",
              "       [0.50639826],\n",
              "       [0.5064402 ]], dtype=float32)"
            ]
          },
          "metadata": {},
          "execution_count": 181
        }
      ]
    },
    {
      "cell_type": "markdown",
      "source": [
        "It is important to ensure that generator ans discriminator are trained paralley therefore .fit won't help, we'll need a different approach"
      ],
      "metadata": {
        "id": "1e6WdZFXwGIT"
      }
    },
    {
      "cell_type": "code",
      "source": [
        "#CONSTRUCTON TRAINING LOOP\n",
        "#setting up losses\n",
        "from tensorflow.keras.optimizers import Adam\n",
        "from tensorflow.keras.losses  import BinaryCrossentropy\n",
        "\n"
      ],
      "metadata": {
        "id": "295vxZLZsu4B"
      },
      "execution_count": 182,
      "outputs": []
    },
    {
      "cell_type": "code",
      "source": [
        "g_opt = Adam(learning_rate = 0.0001)\n",
        "d_opt = Adam(learning_rate= 0.00001)\n",
        "g_loss = BinaryCrossentropy()\n",
        "d_loss = BinaryCrossentropy()"
      ],
      "metadata": {
        "id": "iFDKAnnjxLIh"
      },
      "execution_count": 183,
      "outputs": []
    },
    {
      "cell_type": "code",
      "source": [
        "#setting up the sub classsed model\n",
        "# importing the base model class to subclass our training step\n",
        "\n",
        "from tensorflow.keras.models import Model\n"
      ],
      "metadata": {
        "id": "T-3n8XK8xoDF"
      },
      "execution_count": 184,
      "outputs": []
    },
    {
      "cell_type": "code",
      "source": [
        "class FashionGAN(Model):\n",
        "    def __init__(self, generator, discriminator, *args, **kwargs):\n",
        "        # Pass through args and kwargs to base class\n",
        "        super().__init__(*args, **kwargs)\n",
        "\n",
        "        # Create attributes for gen and disc\n",
        "        self.generator = generator\n",
        "        self.discriminator = discriminator\n",
        "\n",
        "    def compile(self, g_opt, d_opt, g_loss, d_loss, *args, **kwargs):\n",
        "        # Compile with base class\n",
        "        super().compile(*args, **kwargs)\n",
        "\n",
        "        # Create attributes for losses and optimizers\n",
        "        self.g_opt = g_opt\n",
        "        self.d_opt = d_opt\n",
        "        self.g_loss = g_loss\n",
        "        self.d_loss = d_loss\n",
        "\n",
        "    def train_step(self, batch):\n",
        "        # Get the data\n",
        "        real_images = batch\n",
        "        fake_images = self.generator(tf.random.normal((128, 128, 1)), training=False)\n",
        "\n",
        "        # Train the discriminator\n",
        "        with tf.GradientTape() as d_tape:\n",
        "            # Pass the real and fake images to the discriminator model\n",
        "            yhat_real = self.discriminator(real_images, training=True)\n",
        "            yhat_fake = self.discriminator(fake_images, training=True)\n",
        "            yhat_realfake = tf.concat([yhat_real, yhat_fake], axis=0)\n",
        "\n",
        "            # Create labels for real and fakes images\n",
        "            y_realfake = tf.concat([tf.zeros_like(yhat_real), tf.ones_like(yhat_fake)], axis=0)\n",
        "\n",
        "            # Add some noise to the TRUE outputs\n",
        "            noise_real = 0.15*tf.random.uniform(tf.shape(yhat_real))\n",
        "            noise_fake = -0.15*tf.random.uniform(tf.shape(yhat_fake))\n",
        "            y_realfake += tf.concat([noise_real, noise_fake], axis=0)\n",
        "\n",
        "            # Calculate loss - BINARYCROSS\n",
        "            total_d_loss = self.d_loss(y_realfake, yhat_realfake)\n",
        "\n",
        "        # Apply backpropagation - nn learn\n",
        "        dgrad = d_tape.gradient(total_d_loss, self.discriminator.trainable_variables)\n",
        "        self.d_opt.apply_gradients(zip(dgrad, self.discriminator.trainable_variables))\n",
        "\n",
        "        # Train the generator\n",
        "        with tf.GradientTape() as g_tape:\n",
        "            # Generate some new images\n",
        "            gen_images = self.generator(tf.random.normal((128,128,1)), training=True)\n",
        "\n",
        "            # Create the predicted labels\n",
        "            predicted_labels = self.discriminator(gen_images, training=False)\n",
        "\n",
        "            # Calculate loss - trick to training to fake out the discriminator\n",
        "            total_g_loss = self.g_loss(tf.zeros_like(predicted_labels), predicted_labels)\n",
        "\n",
        "        # Apply backprop\n",
        "        ggrad = g_tape.gradient(total_g_loss, self.generator.trainable_variables)\n",
        "        self.g_opt.apply_gradients(zip(ggrad, self.generator.trainable_variables))\n",
        "\n",
        "        return {\"d_loss\":total_d_loss, \"g_loss\":total_g_loss}\n"
      ],
      "metadata": {
        "id": "rs9scN5ayGJf"
      },
      "execution_count": 185,
      "outputs": []
    },
    {
      "cell_type": "code",
      "source": [
        "#instance of subclassed model\n",
        "fashGAN= FashiionGAN(generator , discriminator)"
      ],
      "metadata": {
        "id": "KtrtNx-ayYDJ"
      },
      "execution_count": 186,
      "outputs": []
    },
    {
      "cell_type": "code",
      "source": [
        "#compiling model\n",
        "fashGAN.compile(g_opt , d_opt , g_loss , d_loss)"
      ],
      "metadata": {
        "id": "Dr_OAmlxFjUD"
      },
      "execution_count": 187,
      "outputs": []
    },
    {
      "cell_type": "code",
      "source": [
        "#BUILD CALLBACK\n",
        "import os\n",
        "from tensorflow.keras.preprocessing.image import array_to_img\n",
        "from tensorflow.keras.callbacks import Callback\n"
      ],
      "metadata": {
        "id": "f_bvDl1lF8aZ"
      },
      "execution_count": 188,
      "outputs": []
    },
    {
      "cell_type": "code",
      "source": [
        "from google import colab\n",
        "from google.colab import drive\n",
        "\n",
        "drive.mount('/content/drive')"
      ],
      "metadata": {
        "colab": {
          "base_uri": "https://localhost:8080/"
        },
        "id": "EE0h2JWAIjjp",
        "outputId": "55c53d8b-ac25-4580-cee3-39c51ccc39c9"
      },
      "execution_count": 189,
      "outputs": [
        {
          "output_type": "stream",
          "name": "stdout",
          "text": [
            "Drive already mounted at /content/drive; to attempt to forcibly remount, call drive.mount(\"/content/drive\", force_remount=True).\n"
          ]
        }
      ]
    },
    {
      "cell_type": "code",
      "source": [
        "class ModelMonitor(Callback):\n",
        "  def __init__(self , num_img = 3 , latent_dim = 128):\n",
        "    self.num_img = num_img\n",
        "    self.latent_data = latent_dim\n",
        "  def on_epoch_end(self, epoch , logs = None):\n",
        "    random_latent_vectors  = tf.random.uniform((self.num_img , self.latent_dim,1))\n",
        "    generated_images = self.model.generator(random_latent_vectors)\n",
        "    generated_images.numpy()\n",
        "    for i in range(self.num_img):\n",
        "      img = array_to_img(generated_images[i])\n",
        "      img.save(os.path.join('images' , f'generated_img_{epoch}_{i}.png'))\n",
        "\n",
        "\n",
        "\n"
      ],
      "metadata": {
        "id": "nt9V6JMwGQuf"
      },
      "execution_count": 190,
      "outputs": []
    },
    {
      "cell_type": "code",
      "source": [
        "#TRAINING\n",
        "hist = fashGAN.fit(ds, epochs = 20 , callbacks = [ModelMonitor()])"
      ],
      "metadata": {
        "colab": {
          "base_uri": "https://localhost:8080/",
          "height": 565
        },
        "id": "Wmj2UOd0JGsi",
        "outputId": "6c93d3f3-03ef-4011-ccd8-785a64924795"
      },
      "execution_count": 191,
      "outputs": [
        {
          "output_type": "stream",
          "name": "stdout",
          "text": [
            "Epoch 1/20\n"
          ]
        },
        {
          "output_type": "error",
          "ename": "NameError",
          "evalue": "in user code:\n\n    File \"/usr/local/lib/python3.10/dist-packages/keras/src/engine/training.py\", line 1401, in train_function  *\n        return step_function(self, iterator)\n    File \"/usr/local/lib/python3.10/dist-packages/keras/src/engine/training.py\", line 1384, in step_function  **\n        outputs = model.distribute_strategy.run(run_step, args=(data,))\n    File \"/usr/local/lib/python3.10/dist-packages/keras/src/engine/training.py\", line 1373, in run_step  **\n        outputs = model.train_step(data)\n    File \"<ipython-input-92-b60c43120c92>\", line 19, in train_step\n        real_images = df # Assuming 'image' is the key for real images\n\n    NameError: name 'df' is not defined\n",
          "traceback": [
            "\u001b[0;31m---------------------------------------------------------------------------\u001b[0m",
            "\u001b[0;31mNameError\u001b[0m                                 Traceback (most recent call last)",
            "\u001b[0;32m<ipython-input-191-27057adb3f36>\u001b[0m in \u001b[0;36m<cell line: 2>\u001b[0;34m()\u001b[0m\n\u001b[1;32m      1\u001b[0m \u001b[0;31m#TRAINING\u001b[0m\u001b[0;34m\u001b[0m\u001b[0;34m\u001b[0m\u001b[0m\n\u001b[0;32m----> 2\u001b[0;31m \u001b[0mhist\u001b[0m \u001b[0;34m=\u001b[0m \u001b[0mfashGAN\u001b[0m\u001b[0;34m.\u001b[0m\u001b[0mfit\u001b[0m\u001b[0;34m(\u001b[0m\u001b[0mds\u001b[0m\u001b[0;34m,\u001b[0m \u001b[0mepochs\u001b[0m \u001b[0;34m=\u001b[0m \u001b[0;36m20\u001b[0m \u001b[0;34m,\u001b[0m \u001b[0mcallbacks\u001b[0m \u001b[0;34m=\u001b[0m \u001b[0;34m[\u001b[0m\u001b[0mModelMonitor\u001b[0m\u001b[0;34m(\u001b[0m\u001b[0;34m)\u001b[0m\u001b[0;34m]\u001b[0m\u001b[0;34m)\u001b[0m\u001b[0;34m\u001b[0m\u001b[0;34m\u001b[0m\u001b[0m\n\u001b[0m",
            "\u001b[0;32m/usr/local/lib/python3.10/dist-packages/keras/src/utils/traceback_utils.py\u001b[0m in \u001b[0;36merror_handler\u001b[0;34m(*args, **kwargs)\u001b[0m\n\u001b[1;32m     68\u001b[0m             \u001b[0;31m# To get the full stack trace, call:\u001b[0m\u001b[0;34m\u001b[0m\u001b[0;34m\u001b[0m\u001b[0m\n\u001b[1;32m     69\u001b[0m             \u001b[0;31m# `tf.debugging.disable_traceback_filtering()`\u001b[0m\u001b[0;34m\u001b[0m\u001b[0;34m\u001b[0m\u001b[0m\n\u001b[0;32m---> 70\u001b[0;31m             \u001b[0;32mraise\u001b[0m \u001b[0me\u001b[0m\u001b[0;34m.\u001b[0m\u001b[0mwith_traceback\u001b[0m\u001b[0;34m(\u001b[0m\u001b[0mfiltered_tb\u001b[0m\u001b[0;34m)\u001b[0m \u001b[0;32mfrom\u001b[0m \u001b[0;32mNone\u001b[0m\u001b[0;34m\u001b[0m\u001b[0;34m\u001b[0m\u001b[0m\n\u001b[0m\u001b[1;32m     71\u001b[0m         \u001b[0;32mfinally\u001b[0m\u001b[0;34m:\u001b[0m\u001b[0;34m\u001b[0m\u001b[0;34m\u001b[0m\u001b[0m\n\u001b[1;32m     72\u001b[0m             \u001b[0;32mdel\u001b[0m \u001b[0mfiltered_tb\u001b[0m\u001b[0;34m\u001b[0m\u001b[0;34m\u001b[0m\u001b[0m\n",
            "\u001b[0;32m/usr/local/lib/python3.10/dist-packages/keras/src/engine/training.py\u001b[0m in \u001b[0;36mtf__train_function\u001b[0;34m(iterator)\u001b[0m\n\u001b[1;32m     13\u001b[0m                 \u001b[0;32mtry\u001b[0m\u001b[0;34m:\u001b[0m\u001b[0;34m\u001b[0m\u001b[0;34m\u001b[0m\u001b[0m\n\u001b[1;32m     14\u001b[0m                     \u001b[0mdo_return\u001b[0m \u001b[0;34m=\u001b[0m \u001b[0;32mTrue\u001b[0m\u001b[0;34m\u001b[0m\u001b[0;34m\u001b[0m\u001b[0m\n\u001b[0;32m---> 15\u001b[0;31m                     \u001b[0mretval_\u001b[0m \u001b[0;34m=\u001b[0m \u001b[0mag__\u001b[0m\u001b[0;34m.\u001b[0m\u001b[0mconverted_call\u001b[0m\u001b[0;34m(\u001b[0m\u001b[0mag__\u001b[0m\u001b[0;34m.\u001b[0m\u001b[0mld\u001b[0m\u001b[0;34m(\u001b[0m\u001b[0mstep_function\u001b[0m\u001b[0;34m)\u001b[0m\u001b[0;34m,\u001b[0m \u001b[0;34m(\u001b[0m\u001b[0mag__\u001b[0m\u001b[0;34m.\u001b[0m\u001b[0mld\u001b[0m\u001b[0;34m(\u001b[0m\u001b[0mself\u001b[0m\u001b[0;34m)\u001b[0m\u001b[0;34m,\u001b[0m \u001b[0mag__\u001b[0m\u001b[0;34m.\u001b[0m\u001b[0mld\u001b[0m\u001b[0;34m(\u001b[0m\u001b[0miterator\u001b[0m\u001b[0;34m)\u001b[0m\u001b[0;34m)\u001b[0m\u001b[0;34m,\u001b[0m \u001b[0;32mNone\u001b[0m\u001b[0;34m,\u001b[0m \u001b[0mfscope\u001b[0m\u001b[0;34m)\u001b[0m\u001b[0;34m\u001b[0m\u001b[0;34m\u001b[0m\u001b[0m\n\u001b[0m\u001b[1;32m     16\u001b[0m                 \u001b[0;32mexcept\u001b[0m\u001b[0;34m:\u001b[0m\u001b[0;34m\u001b[0m\u001b[0;34m\u001b[0m\u001b[0m\n\u001b[1;32m     17\u001b[0m                     \u001b[0mdo_return\u001b[0m \u001b[0;34m=\u001b[0m \u001b[0;32mFalse\u001b[0m\u001b[0;34m\u001b[0m\u001b[0;34m\u001b[0m\u001b[0m\n",
            "\u001b[0;32m<ipython-input-92-b60c43120c92>\u001b[0m in \u001b[0;36mtrain_step\u001b[0;34m(self, batch)\u001b[0m\n\u001b[1;32m     17\u001b[0m \u001b[0;34m\u001b[0m\u001b[0m\n\u001b[1;32m     18\u001b[0m   \u001b[0;32mdef\u001b[0m \u001b[0mtrain_step\u001b[0m\u001b[0;34m(\u001b[0m\u001b[0mself\u001b[0m\u001b[0;34m,\u001b[0m \u001b[0mbatch\u001b[0m\u001b[0;34m)\u001b[0m\u001b[0;34m:\u001b[0m\u001b[0;34m\u001b[0m\u001b[0;34m\u001b[0m\u001b[0m\n\u001b[0;32m---> 19\u001b[0;31m     \u001b[0mreal_images\u001b[0m \u001b[0;34m=\u001b[0m \u001b[0mdf\u001b[0m \u001b[0;31m# Assuming 'image' is the key for real images\u001b[0m\u001b[0;34m\u001b[0m\u001b[0;34m\u001b[0m\u001b[0m\n\u001b[0m\u001b[1;32m     20\u001b[0m \u001b[0;34m\u001b[0m\u001b[0m\n\u001b[1;32m     21\u001b[0m     \u001b[0;31m# Convert real_images to a numpy array\u001b[0m\u001b[0;34m\u001b[0m\u001b[0;34m\u001b[0m\u001b[0m\n",
            "\u001b[0;31mNameError\u001b[0m: in user code:\n\n    File \"/usr/local/lib/python3.10/dist-packages/keras/src/engine/training.py\", line 1401, in train_function  *\n        return step_function(self, iterator)\n    File \"/usr/local/lib/python3.10/dist-packages/keras/src/engine/training.py\", line 1384, in step_function  **\n        outputs = model.distribute_strategy.run(run_step, args=(data,))\n    File \"/usr/local/lib/python3.10/dist-packages/keras/src/engine/training.py\", line 1373, in run_step  **\n        outputs = model.train_step(data)\n    File \"<ipython-input-92-b60c43120c92>\", line 19, in train_step\n        real_images = df # Assuming 'image' is the key for real images\n\n    NameError: name 'df' is not defined\n"
          ]
        }
      ]
    },
    {
      "cell_type": "code",
      "source": [
        "plt.suptitle('Loss')\n",
        "plt.plot(hist.history['d_loss'], label='d_loss')\n",
        "plt.plot(hist.history['g_loss'], label='g_loss')\n",
        "plt.legend()\n",
        "plt.show()"
      ],
      "metadata": {
        "id": "MGWb6cyxIENf"
      },
      "execution_count": null,
      "outputs": []
    },
    {
      "cell_type": "code",
      "source": [
        "generator.load_weights(os.path.join('archive', 'generatormodel.h5'))"
      ],
      "metadata": {
        "id": "OazV_qzg7I7e"
      },
      "execution_count": null,
      "outputs": []
    },
    {
      "cell_type": "code",
      "source": [
        "imgs = generator.predict(tf.random.normal((16, 128, 1)))"
      ],
      "metadata": {
        "id": "HFzqTn3Q7Lqz"
      },
      "execution_count": null,
      "outputs": []
    },
    {
      "cell_type": "code",
      "source": [
        "fig, ax = plt.subplots(ncols=4, nrows=4, figsize=(10,10))\n",
        "for r in range(4):\n",
        "    for c in range(4):\n",
        "        ax[r][c].imshow(imgs[(r+1)*(c+1)-1])"
      ],
      "metadata": {
        "id": "vsX2DxqF7OV9"
      },
      "execution_count": null,
      "outputs": []
    },
    {
      "cell_type": "code",
      "source": [
        "#Save the Model\n",
        "generator.save('generator.h5')\n",
        "discriminator.save('discriminator.h5')"
      ],
      "metadata": {
        "id": "KA-0BTxz7Q-r"
      },
      "execution_count": null,
      "outputs": []
    }
  ]
}